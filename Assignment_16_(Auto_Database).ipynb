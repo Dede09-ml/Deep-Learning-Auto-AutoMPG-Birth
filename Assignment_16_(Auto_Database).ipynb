{
  "nbformat": 4,
  "nbformat_minor": 0,
  "metadata": {
    "colab": {
      "name": "Assignment 16 (Auto Database).ipynb",
      "provenance": [],
      "collapsed_sections": [],
      "toc_visible": true
    },
    "kernelspec": {
      "name": "python3",
      "display_name": "Python 3"
    }
  },
  "cells": [
    {
      "cell_type": "code",
      "metadata": {
        "id": "IWfVTT4XlLnJ",
        "outputId": "f660158a-f35e-43a8-8753-33bc6a6660fb",
        "colab": {
          "base_uri": "https://localhost:8080/",
          "height": 33
        }
      },
      "source": [
        "from google.colab import drive\n",
        "drive.mount('/content/drive')"
      ],
      "execution_count": null,
      "outputs": [
        {
          "output_type": "stream",
          "text": [
            "Mounted at /content/drive\n"
          ],
          "name": "stdout"
        }
      ]
    },
    {
      "cell_type": "code",
      "metadata": {
        "id": "9Ca7AjNBaMin"
      },
      "source": [
        "import pandas as pd\n",
        "import numpy as np\n",
        "import matplotlib.pyplot as plt\n",
        "import os\n",
        "import seaborn as sb"
      ],
      "execution_count": null,
      "outputs": []
    },
    {
      "cell_type": "code",
      "metadata": {
        "id": "u9fnC_0D3Rq0",
        "outputId": "c8cb5cbb-541e-4dc4-b4ba-43ccb67513d8",
        "colab": {
          "base_uri": "https://localhost:8080/",
          "height": 335
        }
      },
      "source": [
        "dataset = pd.read_csv('/content/drive/My Drive/Dataset/auto.csv')\n",
        "\n",
        "dataset.describe().transpose()"
      ],
      "execution_count": null,
      "outputs": [
        {
          "output_type": "execute_result",
          "data": {
            "text/html": [
              "<div>\n",
              "<style scoped>\n",
              "    .dataframe tbody tr th:only-of-type {\n",
              "        vertical-align: middle;\n",
              "    }\n",
              "\n",
              "    .dataframe tbody tr th {\n",
              "        vertical-align: top;\n",
              "    }\n",
              "\n",
              "    .dataframe thead th {\n",
              "        text-align: right;\n",
              "    }\n",
              "</style>\n",
              "<table border=\"1\" class=\"dataframe\">\n",
              "  <thead>\n",
              "    <tr style=\"text-align: right;\">\n",
              "      <th></th>\n",
              "      <th>count</th>\n",
              "      <th>mean</th>\n",
              "      <th>std</th>\n",
              "      <th>min</th>\n",
              "      <th>25%</th>\n",
              "      <th>50%</th>\n",
              "      <th>75%</th>\n",
              "      <th>max</th>\n",
              "    </tr>\n",
              "  </thead>\n",
              "  <tbody>\n",
              "    <tr>\n",
              "      <th>symboling</th>\n",
              "      <td>205.0</td>\n",
              "      <td>0.834146</td>\n",
              "      <td>1.245307</td>\n",
              "      <td>-2.0</td>\n",
              "      <td>0.0</td>\n",
              "      <td>1.0</td>\n",
              "      <td>2.0</td>\n",
              "      <td>3.0</td>\n",
              "    </tr>\n",
              "    <tr>\n",
              "      <th>wheel-base</th>\n",
              "      <td>205.0</td>\n",
              "      <td>98.756585</td>\n",
              "      <td>6.021776</td>\n",
              "      <td>86.6</td>\n",
              "      <td>94.5</td>\n",
              "      <td>97.0</td>\n",
              "      <td>102.4</td>\n",
              "      <td>120.9</td>\n",
              "    </tr>\n",
              "    <tr>\n",
              "      <th>length</th>\n",
              "      <td>205.0</td>\n",
              "      <td>174.049268</td>\n",
              "      <td>12.337289</td>\n",
              "      <td>141.1</td>\n",
              "      <td>166.3</td>\n",
              "      <td>173.2</td>\n",
              "      <td>183.1</td>\n",
              "      <td>208.1</td>\n",
              "    </tr>\n",
              "    <tr>\n",
              "      <th>width</th>\n",
              "      <td>205.0</td>\n",
              "      <td>65.907805</td>\n",
              "      <td>2.145204</td>\n",
              "      <td>60.3</td>\n",
              "      <td>64.1</td>\n",
              "      <td>65.5</td>\n",
              "      <td>66.9</td>\n",
              "      <td>72.3</td>\n",
              "    </tr>\n",
              "    <tr>\n",
              "      <th>height</th>\n",
              "      <td>205.0</td>\n",
              "      <td>53.724878</td>\n",
              "      <td>2.443522</td>\n",
              "      <td>47.8</td>\n",
              "      <td>52.0</td>\n",
              "      <td>54.1</td>\n",
              "      <td>55.5</td>\n",
              "      <td>59.8</td>\n",
              "    </tr>\n",
              "    <tr>\n",
              "      <th>curb-weight</th>\n",
              "      <td>205.0</td>\n",
              "      <td>2555.565854</td>\n",
              "      <td>520.680204</td>\n",
              "      <td>1488.0</td>\n",
              "      <td>2145.0</td>\n",
              "      <td>2414.0</td>\n",
              "      <td>2935.0</td>\n",
              "      <td>4066.0</td>\n",
              "    </tr>\n",
              "    <tr>\n",
              "      <th>engine-size</th>\n",
              "      <td>205.0</td>\n",
              "      <td>126.907317</td>\n",
              "      <td>41.642693</td>\n",
              "      <td>61.0</td>\n",
              "      <td>97.0</td>\n",
              "      <td>120.0</td>\n",
              "      <td>141.0</td>\n",
              "      <td>326.0</td>\n",
              "    </tr>\n",
              "    <tr>\n",
              "      <th>compression-ratio</th>\n",
              "      <td>205.0</td>\n",
              "      <td>10.142537</td>\n",
              "      <td>3.972040</td>\n",
              "      <td>7.0</td>\n",
              "      <td>8.6</td>\n",
              "      <td>9.0</td>\n",
              "      <td>9.4</td>\n",
              "      <td>23.0</td>\n",
              "    </tr>\n",
              "    <tr>\n",
              "      <th>city-mpg</th>\n",
              "      <td>205.0</td>\n",
              "      <td>25.219512</td>\n",
              "      <td>6.542142</td>\n",
              "      <td>13.0</td>\n",
              "      <td>19.0</td>\n",
              "      <td>24.0</td>\n",
              "      <td>30.0</td>\n",
              "      <td>49.0</td>\n",
              "    </tr>\n",
              "    <tr>\n",
              "      <th>highway-mpg</th>\n",
              "      <td>205.0</td>\n",
              "      <td>30.751220</td>\n",
              "      <td>6.886443</td>\n",
              "      <td>16.0</td>\n",
              "      <td>25.0</td>\n",
              "      <td>30.0</td>\n",
              "      <td>34.0</td>\n",
              "      <td>54.0</td>\n",
              "    </tr>\n",
              "  </tbody>\n",
              "</table>\n",
              "</div>"
            ],
            "text/plain": [
              "                   count         mean         std  ...     50%     75%     max\n",
              "symboling          205.0     0.834146    1.245307  ...     1.0     2.0     3.0\n",
              "wheel-base         205.0    98.756585    6.021776  ...    97.0   102.4   120.9\n",
              "length             205.0   174.049268   12.337289  ...   173.2   183.1   208.1\n",
              "width              205.0    65.907805    2.145204  ...    65.5    66.9    72.3\n",
              "height             205.0    53.724878    2.443522  ...    54.1    55.5    59.8\n",
              "curb-weight        205.0  2555.565854  520.680204  ...  2414.0  2935.0  4066.0\n",
              " engine-size       205.0   126.907317   41.642693  ...   120.0   141.0   326.0\n",
              "compression-ratio  205.0    10.142537    3.972040  ...     9.0     9.4    23.0\n",
              "city-mpg           205.0    25.219512    6.542142  ...    24.0    30.0    49.0\n",
              "highway-mpg        205.0    30.751220    6.886443  ...    30.0    34.0    54.0\n",
              "\n",
              "[10 rows x 8 columns]"
            ]
          },
          "metadata": {
            "tags": []
          },
          "execution_count": 59
        }
      ]
    },
    {
      "cell_type": "code",
      "metadata": {
        "id": "1ujPAJ533bZs",
        "outputId": "447a823b-a85e-4d5d-ce4f-8d9ccf905c28",
        "colab": {
          "base_uri": "https://localhost:8080/",
          "height": 553
        }
      },
      "source": [
        "dataset.info()"
      ],
      "execution_count": null,
      "outputs": [
        {
          "output_type": "stream",
          "text": [
            "<class 'pandas.core.frame.DataFrame'>\n",
            "RangeIndex: 205 entries, 0 to 204\n",
            "Data columns (total 26 columns):\n",
            " #   Column             Non-Null Count  Dtype  \n",
            "---  ------             --------------  -----  \n",
            " 0   symboling          205 non-null    int64  \n",
            " 1   normalized-losses  205 non-null    object \n",
            " 2   make               205 non-null    object \n",
            " 3   fuel-type          205 non-null    object \n",
            " 4   aspiration         205 non-null    object \n",
            " 5   num-of-doors       205 non-null    object \n",
            " 6   body-style         205 non-null    object \n",
            " 7   drive-wheels       205 non-null    object \n",
            " 8   engine-location    205 non-null    object \n",
            " 9   wheel-base         205 non-null    float64\n",
            " 10  length             205 non-null    float64\n",
            " 11  width              205 non-null    float64\n",
            " 12  height             205 non-null    float64\n",
            " 13  curb-weight        205 non-null    int64  \n",
            " 14  engine-type        205 non-null    object \n",
            " 15  num-of-cylinders   205 non-null    object \n",
            " 16   engine-size       205 non-null    int64  \n",
            " 17  fuel-system        205 non-null    object \n",
            " 18  bore               205 non-null    object \n",
            " 19  stroke             205 non-null    object \n",
            " 20  compression-ratio  205 non-null    float64\n",
            " 21  horsepower         205 non-null    object \n",
            " 22  peak-rpm           205 non-null    object \n",
            " 23  city-mpg           205 non-null    int64  \n",
            " 24  highway-mpg        205 non-null    int64  \n",
            " 25  price              205 non-null    object \n",
            "dtypes: float64(5), int64(5), object(16)\n",
            "memory usage: 41.8+ KB\n"
          ],
          "name": "stdout"
        }
      ]
    },
    {
      "cell_type": "markdown",
      "metadata": {
        "id": "uawFjcB6oFic"
      },
      "source": [
        "drop yang tidak dipakai"
      ]
    },
    {
      "cell_type": "code",
      "metadata": {
        "id": "zfRHttsXmSc6"
      },
      "source": [
        "dataset = dataset.drop(['symboling','normalized-losses','make','fuel-type','aspiration','num-of-doors','body-style','drive-wheels','engine-location',\n",
        "              'curb-weight','engine-type','num-of-cylinders',' engine-size','fuel-system','horsepower','city-mpg','highway-mpg'], axis=1)"
      ],
      "execution_count": null,
      "outputs": []
    },
    {
      "cell_type": "code",
      "metadata": {
        "id": "Yco68Bt5ucPp",
        "outputId": "e13c36a8-fd92-415e-8bbf-62788a8cf031",
        "colab": {
          "base_uri": "https://localhost:8080/",
          "height": 277
        }
      },
      "source": [
        "dataset.info()"
      ],
      "execution_count": null,
      "outputs": [
        {
          "output_type": "stream",
          "text": [
            "<class 'pandas.core.frame.DataFrame'>\n",
            "RangeIndex: 205 entries, 0 to 204\n",
            "Data columns (total 9 columns):\n",
            " #   Column             Non-Null Count  Dtype  \n",
            "---  ------             --------------  -----  \n",
            " 0   wheel-base         205 non-null    float64\n",
            " 1   length             205 non-null    float64\n",
            " 2   width              205 non-null    float64\n",
            " 3   height             205 non-null    float64\n",
            " 4   bore               205 non-null    object \n",
            " 5   stroke             205 non-null    object \n",
            " 6   compression-ratio  205 non-null    float64\n",
            " 7   peak-rpm           205 non-null    object \n",
            " 8   price              205 non-null    object \n",
            "dtypes: float64(5), object(4)\n",
            "memory usage: 14.5+ KB\n"
          ],
          "name": "stdout"
        }
      ]
    },
    {
      "cell_type": "code",
      "metadata": {
        "id": "NXHl9zTK3cr7",
        "outputId": "29c857c0-7712-4784-e1b7-eb9eedc6144d",
        "colab": {
          "base_uri": "https://localhost:8080/",
          "height": 1000
        }
      },
      "source": [
        "dataset.hist(figsize=(18, 22), bins=50, xlabelsize=8, ylabelsize=8)"
      ],
      "execution_count": null,
      "outputs": [
        {
          "output_type": "execute_result",
          "data": {
            "text/plain": [
              "array([[<matplotlib.axes._subplots.AxesSubplot object at 0x7f7936567c50>,\n",
              "        <matplotlib.axes._subplots.AxesSubplot object at 0x7f7936537f28>],\n",
              "       [<matplotlib.axes._subplots.AxesSubplot object at 0x7f79364f41d0>,\n",
              "        <matplotlib.axes._subplots.AxesSubplot object at 0x7f79364a3438>],\n",
              "       [<matplotlib.axes._subplots.AxesSubplot object at 0x7f79364d36a0>,\n",
              "        <matplotlib.axes._subplots.AxesSubplot object at 0x7f7936485908>]],\n",
              "      dtype=object)"
            ]
          },
          "metadata": {
            "tags": []
          },
          "execution_count": 11
        },
        {
          "output_type": "display_data",
          "data": {
            "image/png": "[encoded data removed]",
            "text/plain": [
              "<Figure size 1296x1584 with 6 Axes>"
            ]
          },
          "metadata": {
            "tags": [],
            "needs_background": "light"
          }
        }
      ]
    },
    {
      "cell_type": "code",
      "metadata": {
        "id": "qtOpXsc6v31G",
        "outputId": "f4d1a1fa-78bb-4cb4-ec0f-65786ea146c2",
        "colab": {
          "base_uri": "https://localhost:8080/",
          "height": 191
        }
      },
      "source": [
        "#dataCleaning\n",
        "#replace nilai ? dengan none\n",
        "dataset.replace(\"?\", np.nan, inplace=True)\n",
        "\n",
        "dataset.head()"
      ],
      "execution_count": null,
      "outputs": [
        {
          "output_type": "execute_result",
          "data": {
            "text/html": [
              "<div>\n",
              "<style scoped>\n",
              "    .dataframe tbody tr th:only-of-type {\n",
              "        vertical-align: middle;\n",
              "    }\n",
              "\n",
              "    .dataframe tbody tr th {\n",
              "        vertical-align: top;\n",
              "    }\n",
              "\n",
              "    .dataframe thead th {\n",
              "        text-align: right;\n",
              "    }\n",
              "</style>\n",
              "<table border=\"1\" class=\"dataframe\">\n",
              "  <thead>\n",
              "    <tr style=\"text-align: right;\">\n",
              "      <th></th>\n",
              "      <th>wheel-base</th>\n",
              "      <th>length</th>\n",
              "      <th>width</th>\n",
              "      <th>height</th>\n",
              "      <th>bore</th>\n",
              "      <th>stroke</th>\n",
              "      <th>compression-ratio</th>\n",
              "      <th>peak-rpm</th>\n",
              "      <th>price</th>\n",
              "    </tr>\n",
              "  </thead>\n",
              "  <tbody>\n",
              "    <tr>\n",
              "      <th>0</th>\n",
              "      <td>88.6</td>\n",
              "      <td>168.8</td>\n",
              "      <td>64.1</td>\n",
              "      <td>48.8</td>\n",
              "      <td>3.47</td>\n",
              "      <td>2.68</td>\n",
              "      <td>9.0</td>\n",
              "      <td>5000</td>\n",
              "      <td>13495</td>\n",
              "    </tr>\n",
              "    <tr>\n",
              "      <th>1</th>\n",
              "      <td>88.6</td>\n",
              "      <td>168.8</td>\n",
              "      <td>64.1</td>\n",
              "      <td>48.8</td>\n",
              "      <td>3.47</td>\n",
              "      <td>2.68</td>\n",
              "      <td>9.0</td>\n",
              "      <td>5000</td>\n",
              "      <td>16500</td>\n",
              "    </tr>\n",
              "    <tr>\n",
              "      <th>2</th>\n",
              "      <td>94.5</td>\n",
              "      <td>171.2</td>\n",
              "      <td>65.5</td>\n",
              "      <td>52.4</td>\n",
              "      <td>2.68</td>\n",
              "      <td>3.47</td>\n",
              "      <td>9.0</td>\n",
              "      <td>5000</td>\n",
              "      <td>16500</td>\n",
              "    </tr>\n",
              "    <tr>\n",
              "      <th>3</th>\n",
              "      <td>99.8</td>\n",
              "      <td>176.6</td>\n",
              "      <td>66.2</td>\n",
              "      <td>54.3</td>\n",
              "      <td>3.19</td>\n",
              "      <td>3.40</td>\n",
              "      <td>10.0</td>\n",
              "      <td>5500</td>\n",
              "      <td>13950</td>\n",
              "    </tr>\n",
              "    <tr>\n",
              "      <th>4</th>\n",
              "      <td>99.4</td>\n",
              "      <td>176.6</td>\n",
              "      <td>66.4</td>\n",
              "      <td>54.3</td>\n",
              "      <td>3.19</td>\n",
              "      <td>3.40</td>\n",
              "      <td>8.0</td>\n",
              "      <td>5500</td>\n",
              "      <td>17450</td>\n",
              "    </tr>\n",
              "  </tbody>\n",
              "</table>\n",
              "</div>"
            ],
            "text/plain": [
              "   wheel-base  length  width  height  ... stroke compression-ratio  peak-rpm  price\n",
              "0        88.6   168.8   64.1    48.8  ...   2.68               9.0      5000  13495\n",
              "1        88.6   168.8   64.1    48.8  ...   2.68               9.0      5000  16500\n",
              "2        94.5   171.2   65.5    52.4  ...   3.47               9.0      5000  16500\n",
              "3        99.8   176.6   66.2    54.3  ...   3.40              10.0      5500  13950\n",
              "4        99.4   176.6   66.4    54.3  ...   3.40               8.0      5500  17450\n",
              "\n",
              "[5 rows x 9 columns]"
            ]
          },
          "metadata": {
            "tags": []
          },
          "execution_count": 15
        }
      ]
    },
    {
      "cell_type": "code",
      "metadata": {
        "id": "rskTyEemvyMU",
        "outputId": "758401d4-c625-481e-8eb0-23326a6e74e5",
        "colab": {
          "base_uri": "https://localhost:8080/",
          "height": 180
        }
      },
      "source": [
        "dataset.isnull().sum().sort_values()"
      ],
      "execution_count": null,
      "outputs": [
        {
          "output_type": "execute_result",
          "data": {
            "text/plain": [
              "wheel-base           0\n",
              "length               0\n",
              "width                0\n",
              "height               0\n",
              "compression-ratio    0\n",
              "peak-rpm             2\n",
              "bore                 4\n",
              "stroke               4\n",
              "price                4\n",
              "dtype: int64"
            ]
          },
          "metadata": {
            "tags": []
          },
          "execution_count": 16
        }
      ]
    },
    {
      "cell_type": "markdown",
      "metadata": {
        "id": "LLkztQswwyoI"
      },
      "source": [
        "ganti nilai nan dengan nilai rata-rata"
      ]
    },
    {
      "cell_type": "code",
      "metadata": {
        "id": "VstdKk88wI3c"
      },
      "source": [
        "avg_bore=dataset['bore'].astype('float').mean(axis=0)\n",
        "avg_stroke=dataset['stroke'].astype('float').mean(axis=0)\n",
        "avg_pr=dataset['peak-rpm'].astype('float').mean(axis=0)"
      ],
      "execution_count": null,
      "outputs": []
    },
    {
      "cell_type": "code",
      "metadata": {
        "id": "itG2MGKAw2p8"
      },
      "source": [
        "dataset['bore'].replace(np.nan, avg_bore, inplace=True)\n",
        "dataset['stroke'].replace(np.nan, avg_stroke, inplace=True)\n",
        "dataset['peak-rpm'].replace(np.nan, avg_pr, inplace=True)"
      ],
      "execution_count": null,
      "outputs": []
    },
    {
      "cell_type": "code",
      "metadata": {
        "id": "oDI7-QZVw9jo",
        "outputId": "fa2fc03b-e838-4c0d-ec46-79d04b128232",
        "colab": {
          "base_uri": "https://localhost:8080/",
          "height": 180
        }
      },
      "source": [
        "dataset.isnull().sum().sort_values()"
      ],
      "execution_count": null,
      "outputs": [
        {
          "output_type": "execute_result",
          "data": {
            "text/plain": [
              "wheel-base           0\n",
              "length               0\n",
              "width                0\n",
              "height               0\n",
              "bore                 0\n",
              "stroke               0\n",
              "compression-ratio    0\n",
              "peak-rpm             0\n",
              "price                4\n",
              "dtype: int64"
            ]
          },
          "metadata": {
            "tags": []
          },
          "execution_count": 19
        }
      ]
    },
    {
      "cell_type": "markdown",
      "metadata": {
        "id": "MMIMtR86xT0n"
      },
      "source": [
        "hapus nilai nan pada price "
      ]
    },
    {
      "cell_type": "code",
      "metadata": {
        "id": "9Y6TmR8Yw-7C",
        "outputId": "15b5bc36-beb7-441a-9b7d-496f7a337af5",
        "colab": {
          "base_uri": "https://localhost:8080/",
          "height": 180
        }
      },
      "source": [
        "dataset.dropna(subset=[\"price\"], axis=0, inplace=True)\n",
        "dataset.isnull().sum()"
      ],
      "execution_count": null,
      "outputs": [
        {
          "output_type": "execute_result",
          "data": {
            "text/plain": [
              "wheel-base           0\n",
              "length               0\n",
              "width                0\n",
              "height               0\n",
              "bore                 0\n",
              "stroke               0\n",
              "compression-ratio    0\n",
              "peak-rpm             0\n",
              "price                0\n",
              "dtype: int64"
            ]
          },
          "metadata": {
            "tags": []
          },
          "execution_count": 20
        }
      ]
    },
    {
      "cell_type": "markdown",
      "metadata": {
        "id": "PcmyATzkvcKO"
      },
      "source": [
        "ubah data object menjadi float"
      ]
    },
    {
      "cell_type": "code",
      "metadata": {
        "id": "B6dlH7-MvZoi"
      },
      "source": [
        "dataset[[\"bore\", \"stroke\", \"price\", \"peak-rpm\"]] = dataset[[\"bore\", \"stroke\", \"price\", \"peak-rpm\"]].astype(\"float\")"
      ],
      "execution_count": null,
      "outputs": []
    },
    {
      "cell_type": "code",
      "metadata": {
        "id": "K5h4YNeuxeUe",
        "outputId": "31c69891-3cca-4d81-f8a0-1f62dd1a3adb",
        "colab": {
          "base_uri": "https://localhost:8080/",
          "height": 180
        }
      },
      "source": [
        "dataset.dtypes"
      ],
      "execution_count": null,
      "outputs": [
        {
          "output_type": "execute_result",
          "data": {
            "text/plain": [
              "wheel-base           float64\n",
              "length               float64\n",
              "width                float64\n",
              "height               float64\n",
              "bore                 float64\n",
              "stroke               float64\n",
              "compression-ratio    float64\n",
              "peak-rpm             float64\n",
              "price                float64\n",
              "dtype: object"
            ]
          },
          "metadata": {
            "tags": []
          },
          "execution_count": 22
        }
      ]
    },
    {
      "cell_type": "code",
      "metadata": {
        "id": "uJ6Ezp153sNA",
        "outputId": "dae961ae-74fc-4a98-d51f-8a1fe0b281b0",
        "colab": {
          "base_uri": "https://localhost:8080/",
          "height": 306
        }
      },
      "source": [
        "corr = dataset.corr()\n",
        "\n",
        "corr"
      ],
      "execution_count": null,
      "outputs": [
        {
          "output_type": "execute_result",
          "data": {
            "text/html": [
              "<div>\n",
              "<style scoped>\n",
              "    .dataframe tbody tr th:only-of-type {\n",
              "        vertical-align: middle;\n",
              "    }\n",
              "\n",
              "    .dataframe tbody tr th {\n",
              "        vertical-align: top;\n",
              "    }\n",
              "\n",
              "    .dataframe thead th {\n",
              "        text-align: right;\n",
              "    }\n",
              "</style>\n",
              "<table border=\"1\" class=\"dataframe\">\n",
              "  <thead>\n",
              "    <tr style=\"text-align: right;\">\n",
              "      <th></th>\n",
              "      <th>wheel-base</th>\n",
              "      <th>length</th>\n",
              "      <th>width</th>\n",
              "      <th>height</th>\n",
              "      <th>bore</th>\n",
              "      <th>stroke</th>\n",
              "      <th>compression-ratio</th>\n",
              "      <th>peak-rpm</th>\n",
              "      <th>price</th>\n",
              "    </tr>\n",
              "  </thead>\n",
              "  <tbody>\n",
              "    <tr>\n",
              "      <th>wheel-base</th>\n",
              "      <td>1.000000</td>\n",
              "      <td>0.876024</td>\n",
              "      <td>0.814507</td>\n",
              "      <td>0.590742</td>\n",
              "      <td>0.493244</td>\n",
              "      <td>0.158018</td>\n",
              "      <td>0.250313</td>\n",
              "      <td>-0.360305</td>\n",
              "      <td>0.584642</td>\n",
              "    </tr>\n",
              "    <tr>\n",
              "      <th>length</th>\n",
              "      <td>0.876024</td>\n",
              "      <td>1.000000</td>\n",
              "      <td>0.857170</td>\n",
              "      <td>0.492063</td>\n",
              "      <td>0.608971</td>\n",
              "      <td>0.123952</td>\n",
              "      <td>0.159733</td>\n",
              "      <td>-0.285970</td>\n",
              "      <td>0.690628</td>\n",
              "    </tr>\n",
              "    <tr>\n",
              "      <th>width</th>\n",
              "      <td>0.814507</td>\n",
              "      <td>0.857170</td>\n",
              "      <td>1.000000</td>\n",
              "      <td>0.306002</td>\n",
              "      <td>0.544885</td>\n",
              "      <td>0.188822</td>\n",
              "      <td>0.189867</td>\n",
              "      <td>-0.245800</td>\n",
              "      <td>0.751265</td>\n",
              "    </tr>\n",
              "    <tr>\n",
              "      <th>height</th>\n",
              "      <td>0.590742</td>\n",
              "      <td>0.492063</td>\n",
              "      <td>0.306002</td>\n",
              "      <td>1.000000</td>\n",
              "      <td>0.180449</td>\n",
              "      <td>-0.060663</td>\n",
              "      <td>0.259737</td>\n",
              "      <td>-0.309974</td>\n",
              "      <td>0.135486</td>\n",
              "    </tr>\n",
              "    <tr>\n",
              "      <th>bore</th>\n",
              "      <td>0.493244</td>\n",
              "      <td>0.608971</td>\n",
              "      <td>0.544885</td>\n",
              "      <td>0.180449</td>\n",
              "      <td>1.000000</td>\n",
              "      <td>-0.055390</td>\n",
              "      <td>0.001263</td>\n",
              "      <td>-0.267392</td>\n",
              "      <td>0.543155</td>\n",
              "    </tr>\n",
              "    <tr>\n",
              "      <th>stroke</th>\n",
              "      <td>0.158018</td>\n",
              "      <td>0.123952</td>\n",
              "      <td>0.188822</td>\n",
              "      <td>-0.060663</td>\n",
              "      <td>-0.055390</td>\n",
              "      <td>1.000000</td>\n",
              "      <td>0.187871</td>\n",
              "      <td>-0.063561</td>\n",
              "      <td>0.082269</td>\n",
              "    </tr>\n",
              "    <tr>\n",
              "      <th>compression-ratio</th>\n",
              "      <td>0.250313</td>\n",
              "      <td>0.159733</td>\n",
              "      <td>0.189867</td>\n",
              "      <td>0.259737</td>\n",
              "      <td>0.001263</td>\n",
              "      <td>0.187871</td>\n",
              "      <td>1.000000</td>\n",
              "      <td>-0.435780</td>\n",
              "      <td>0.071107</td>\n",
              "    </tr>\n",
              "    <tr>\n",
              "      <th>peak-rpm</th>\n",
              "      <td>-0.360305</td>\n",
              "      <td>-0.285970</td>\n",
              "      <td>-0.245800</td>\n",
              "      <td>-0.309974</td>\n",
              "      <td>-0.267392</td>\n",
              "      <td>-0.063561</td>\n",
              "      <td>-0.435780</td>\n",
              "      <td>1.000000</td>\n",
              "      <td>-0.101616</td>\n",
              "    </tr>\n",
              "    <tr>\n",
              "      <th>price</th>\n",
              "      <td>0.584642</td>\n",
              "      <td>0.690628</td>\n",
              "      <td>0.751265</td>\n",
              "      <td>0.135486</td>\n",
              "      <td>0.543155</td>\n",
              "      <td>0.082269</td>\n",
              "      <td>0.071107</td>\n",
              "      <td>-0.101616</td>\n",
              "      <td>1.000000</td>\n",
              "    </tr>\n",
              "  </tbody>\n",
              "</table>\n",
              "</div>"
            ],
            "text/plain": [
              "                   wheel-base    length  ...  peak-rpm     price\n",
              "wheel-base           1.000000  0.876024  ... -0.360305  0.584642\n",
              "length               0.876024  1.000000  ... -0.285970  0.690628\n",
              "width                0.814507  0.857170  ... -0.245800  0.751265\n",
              "height               0.590742  0.492063  ... -0.309974  0.135486\n",
              "bore                 0.493244  0.608971  ... -0.267392  0.543155\n",
              "stroke               0.158018  0.123952  ... -0.063561  0.082269\n",
              "compression-ratio    0.250313  0.159733  ... -0.435780  0.071107\n",
              "peak-rpm            -0.360305 -0.285970  ...  1.000000 -0.101616\n",
              "price                0.584642  0.690628  ... -0.101616  1.000000\n",
              "\n",
              "[9 rows x 9 columns]"
            ]
          },
          "metadata": {
            "tags": []
          },
          "execution_count": 23
        }
      ]
    },
    {
      "cell_type": "code",
      "metadata": {
        "id": "Vd6ePL4Yx3OG",
        "outputId": "d9e0e7fc-b7bf-4f99-ccd5-5b98c7857dfd",
        "colab": {
          "base_uri": "https://localhost:8080/",
          "height": 163
        }
      },
      "source": [
        "dataset.corr()['price'][:-1]"
      ],
      "execution_count": null,
      "outputs": [
        {
          "output_type": "execute_result",
          "data": {
            "text/plain": [
              "wheel-base           0.584642\n",
              "length               0.690628\n",
              "width                0.751265\n",
              "height               0.135486\n",
              "bore                 0.543155\n",
              "stroke               0.082269\n",
              "compression-ratio    0.071107\n",
              "peak-rpm            -0.101616\n",
              "Name: price, dtype: float64"
            ]
          },
          "metadata": {
            "tags": []
          },
          "execution_count": 24
        }
      ]
    },
    {
      "cell_type": "code",
      "metadata": {
        "id": "oEmrD1cr3ng5",
        "outputId": "36166806-f856-4def-99bf-26dabe29ecae",
        "colab": {
          "base_uri": "https://localhost:8080/",
          "height": 1000
        }
      },
      "source": [
        "plt.figure(figsize=(20,20))\n",
        "sb.heatmap(corr, cbar=True, square= True, fmt='.1f', annot=True, annot_kws={'size':15}, cmap='Blues')"
      ],
      "execution_count": null,
      "outputs": [
        {
          "output_type": "execute_result",
          "data": {
            "text/plain": [
              "<matplotlib.axes._subplots.AxesSubplot at 0x7f7935b8d898>"
            ]
          },
          "metadata": {
            "tags": []
          },
          "execution_count": 26
        },
        {
          "output_type": "display_data",
          "data": {
            "image/png": "[encoded data removed]",
            "text/plain": [
              "<Figure size 1440x1440 with 2 Axes>"
            ]
          },
          "metadata": {
            "tags": [],
            "needs_background": "light"
          }
        }
      ]
    },
    {
      "cell_type": "markdown",
      "metadata": {
        "id": "ryI7Lg7h4Utc"
      },
      "source": [
        "## Linear Regression"
      ]
    },
    {
      "cell_type": "markdown",
      "metadata": {
        "id": "QtdINMvP4YOt"
      },
      "source": [
        "### Feature Engineering"
      ]
    },
    {
      "cell_type": "code",
      "metadata": {
        "id": "D2cvZwxU4UKL"
      },
      "source": [
        "label = dataset['price']\n",
        "features = dataset.drop(['price'], axis=1)"
      ],
      "execution_count": null,
      "outputs": []
    },
    {
      "cell_type": "code",
      "metadata": {
        "id": "ivxW5Lny5QmX"
      },
      "source": [
        "from sklearn import preprocessing\n",
        "scaler = preprocessing.StandardScaler()\n",
        "\n",
        "features = scaler.fit_transform(features.values)\n",
        "label = scaler.fit_transform(label.values.reshape(-1,1)).flatten()"
      ],
      "execution_count": null,
      "outputs": []
    },
    {
      "cell_type": "code",
      "metadata": {
        "id": "eVZoQC3i4e1b"
      },
      "source": [
        "from sklearn.model_selection import train_test_split\n",
        "feature_train, feature_test, label_train, label_test = train_test_split(features, label, test_size=0.2, random_state=10)"
      ],
      "execution_count": null,
      "outputs": []
    },
    {
      "cell_type": "code",
      "metadata": {
        "id": "dtOFfE5y4jUs",
        "outputId": "efe5176c-4398-48a2-e1c7-5137a604fc44",
        "colab": {
          "base_uri": "https://localhost:8080/",
          "height": 82
        }
      },
      "source": [
        "from sklearn.linear_model import LinearRegression\n",
        "\n",
        "lm = LinearRegression()\n",
        "lm.fit(feature_train, label_train)\n",
        "\n",
        "predictions = lm.predict(feature_test)\n",
        "\n",
        "from sklearn.metrics import mean_squared_error, mean_absolute_error, r2_score\n",
        "\n",
        "mse = mean_squared_error(label_test, predictions)\n",
        "mae = mean_absolute_error(label_test, predictions)\n",
        "r2 = r2_score(label_test, predictions)\n",
        "print(\"MSE (Mean Squared Error)\", mse)\n",
        "print(\"MAE (Mean Absolute Error)\", mae)\n",
        "print(\"r^2 score\", r2)\n",
        "print('RMSE (Root Mean Squared Error', np.sqrt(mean_squared_error(label_test, predictions)))"
      ],
      "execution_count": null,
      "outputs": [
        {
          "output_type": "stream",
          "text": [
            "MSE (Mean Squared Error) 0.244769250439587\n",
            "MAE (Mean Absolute Error) 0.37372756360580484\n",
            "r^2 score 0.6582019578480833\n",
            "RMSE (Root Mean Squared Error 0.49474159966550924\n"
          ],
          "name": "stdout"
        }
      ]
    },
    {
      "cell_type": "markdown",
      "metadata": {
        "id": "71NOADCA4oSi"
      },
      "source": [
        "### Deep Learning"
      ]
    },
    {
      "cell_type": "code",
      "metadata": {
        "id": "u520t66w21i6"
      },
      "source": [
        "# Based on: https://machinelearningmastery.com/regression-tutorial-keras-deep-learning-library-python/\n",
        "from tensorflow.keras.models import Sequential\n",
        "from tensorflow.keras.layers import Dense\n",
        "\n",
        "model = Sequential()\n",
        "model.add(Dense(13, input_dim=8, kernel_initializer='normal', activation='relu')) # 13 neuron, sesuai dengan 13 features\n",
        "model.add(Dense(1, kernel_initializer='normal'))\n",
        "\n",
        "model.compile(loss='mean_squared_error', optimizer='adam')"
      ],
      "execution_count": null,
      "outputs": []
    },
    {
      "cell_type": "code",
      "metadata": {
        "id": "SvGU4xsO6C74",
        "outputId": "3c259d5b-ec1a-4882-c0ff-5e6db63b3041",
        "colab": {
          "base_uri": "https://localhost:8080/",
          "height": 1000
        }
      },
      "source": [
        "model.fit(x=feature_train, y=label_train, validation_data=(feature_test, label_test), epochs=50, batch_size=8)"
      ],
      "execution_count": null,
      "outputs": [
        {
          "output_type": "stream",
          "text": [
            "Epoch 1/50\n",
            "20/20 [==============================] - 0s 7ms/step - loss: 1.0345 - val_loss: 0.6813\n",
            "Epoch 2/50\n",
            "20/20 [==============================] - 0s 3ms/step - loss: 0.9801 - val_loss: 0.6502\n",
            "Epoch 3/50\n",
            "20/20 [==============================] - 0s 3ms/step - loss: 0.9087 - val_loss: 0.6122\n",
            "Epoch 4/50\n",
            "20/20 [==============================] - 0s 2ms/step - loss: 0.8216 - val_loss: 0.5663\n",
            "Epoch 5/50\n",
            "20/20 [==============================] - 0s 3ms/step - loss: 0.7219 - val_loss: 0.5234\n",
            "Epoch 6/50\n",
            "20/20 [==============================] - 0s 3ms/step - loss: 0.6402 - val_loss: 0.4851\n",
            "Epoch 7/50\n",
            "20/20 [==============================] - 0s 3ms/step - loss: 0.5588 - val_loss: 0.4605\n",
            "Epoch 8/50\n",
            "20/20 [==============================] - 0s 2ms/step - loss: 0.5069 - val_loss: 0.4435\n",
            "Epoch 9/50\n",
            "20/20 [==============================] - 0s 3ms/step - loss: 0.4796 - val_loss: 0.4364\n",
            "Epoch 10/50\n",
            "20/20 [==============================] - 0s 2ms/step - loss: 0.4582 - val_loss: 0.4321\n",
            "Epoch 11/50\n",
            "20/20 [==============================] - 0s 2ms/step - loss: 0.4413 - val_loss: 0.4204\n",
            "Epoch 12/50\n",
            "20/20 [==============================] - 0s 2ms/step - loss: 0.4358 - val_loss: 0.4113\n",
            "Epoch 13/50\n",
            "20/20 [==============================] - 0s 3ms/step - loss: 0.4279 - val_loss: 0.3989\n",
            "Epoch 14/50\n",
            "20/20 [==============================] - 0s 3ms/step - loss: 0.4194 - val_loss: 0.3921\n",
            "Epoch 15/50\n",
            "20/20 [==============================] - 0s 3ms/step - loss: 0.4115 - val_loss: 0.3821\n",
            "Epoch 16/50\n",
            "20/20 [==============================] - 0s 3ms/step - loss: 0.4059 - val_loss: 0.3713\n",
            "Epoch 17/50\n",
            "20/20 [==============================] - 0s 3ms/step - loss: 0.4005 - val_loss: 0.3627\n",
            "Epoch 18/50\n",
            "20/20 [==============================] - 0s 3ms/step - loss: 0.3956 - val_loss: 0.3527\n",
            "Epoch 19/50\n",
            "20/20 [==============================] - 0s 3ms/step - loss: 0.3917 - val_loss: 0.3471\n",
            "Epoch 20/50\n",
            "20/20 [==============================] - 0s 3ms/step - loss: 0.3942 - val_loss: 0.3332\n",
            "Epoch 21/50\n",
            "20/20 [==============================] - 0s 2ms/step - loss: 0.3802 - val_loss: 0.3281\n",
            "Epoch 22/50\n",
            "20/20 [==============================] - 0s 2ms/step - loss: 0.3771 - val_loss: 0.3233\n",
            "Epoch 23/50\n",
            "20/20 [==============================] - 0s 3ms/step - loss: 0.3733 - val_loss: 0.3146\n",
            "Epoch 24/50\n",
            "20/20 [==============================] - 0s 2ms/step - loss: 0.3700 - val_loss: 0.3056\n",
            "Epoch 25/50\n",
            "20/20 [==============================] - 0s 3ms/step - loss: 0.3652 - val_loss: 0.3038\n",
            "Epoch 26/50\n",
            "20/20 [==============================] - 0s 3ms/step - loss: 0.3623 - val_loss: 0.2983\n",
            "Epoch 27/50\n",
            "20/20 [==============================] - 0s 3ms/step - loss: 0.3593 - val_loss: 0.2939\n",
            "Epoch 28/50\n",
            "20/20 [==============================] - 0s 3ms/step - loss: 0.3559 - val_loss: 0.2865\n",
            "Epoch 29/50\n",
            "20/20 [==============================] - 0s 3ms/step - loss: 0.3530 - val_loss: 0.2810\n",
            "Epoch 30/50\n",
            "20/20 [==============================] - 0s 3ms/step - loss: 0.3501 - val_loss: 0.2777\n",
            "Epoch 31/50\n",
            "20/20 [==============================] - 0s 3ms/step - loss: 0.3462 - val_loss: 0.2744\n",
            "Epoch 32/50\n",
            "20/20 [==============================] - 0s 3ms/step - loss: 0.3423 - val_loss: 0.2707\n",
            "Epoch 33/50\n",
            "20/20 [==============================] - 0s 3ms/step - loss: 0.3391 - val_loss: 0.2661\n",
            "Epoch 34/50\n",
            "20/20 [==============================] - 0s 3ms/step - loss: 0.3361 - val_loss: 0.2623\n",
            "Epoch 35/50\n",
            "20/20 [==============================] - 0s 3ms/step - loss: 0.3313 - val_loss: 0.2559\n",
            "Epoch 36/50\n",
            "20/20 [==============================] - 0s 3ms/step - loss: 0.3288 - val_loss: 0.2542\n",
            "Epoch 37/50\n",
            "20/20 [==============================] - 0s 3ms/step - loss: 0.3243 - val_loss: 0.2477\n",
            "Epoch 38/50\n",
            "20/20 [==============================] - 0s 3ms/step - loss: 0.3220 - val_loss: 0.2433\n",
            "Epoch 39/50\n",
            "20/20 [==============================] - 0s 3ms/step - loss: 0.3191 - val_loss: 0.2394\n",
            "Epoch 40/50\n",
            "20/20 [==============================] - 0s 3ms/step - loss: 0.3149 - val_loss: 0.2366\n",
            "Epoch 41/50\n",
            "20/20 [==============================] - 0s 3ms/step - loss: 0.3116 - val_loss: 0.2323\n",
            "Epoch 42/50\n",
            "20/20 [==============================] - 0s 3ms/step - loss: 0.3082 - val_loss: 0.2284\n",
            "Epoch 43/50\n",
            "20/20 [==============================] - 0s 3ms/step - loss: 0.3054 - val_loss: 0.2260\n",
            "Epoch 44/50\n",
            "20/20 [==============================] - 0s 3ms/step - loss: 0.3026 - val_loss: 0.2206\n",
            "Epoch 45/50\n",
            "20/20 [==============================] - 0s 3ms/step - loss: 0.2988 - val_loss: 0.2173\n",
            "Epoch 46/50\n",
            "20/20 [==============================] - 0s 3ms/step - loss: 0.2962 - val_loss: 0.2135\n",
            "Epoch 47/50\n",
            "20/20 [==============================] - 0s 3ms/step - loss: 0.2918 - val_loss: 0.2101\n",
            "Epoch 48/50\n",
            "20/20 [==============================] - 0s 3ms/step - loss: 0.2913 - val_loss: 0.2073\n",
            "Epoch 49/50\n",
            "20/20 [==============================] - 0s 3ms/step - loss: 0.2864 - val_loss: 0.2052\n",
            "Epoch 50/50\n",
            "20/20 [==============================] - 0s 3ms/step - loss: 0.2831 - val_loss: 0.2031\n"
          ],
          "name": "stdout"
        },
        {
          "output_type": "execute_result",
          "data": {
            "text/plain": [
              "<tensorflow.python.keras.callbacks.History at 0x7f78a202b048>"
            ]
          },
          "metadata": {
            "tags": []
          },
          "execution_count": 44
        }
      ]
    },
    {
      "cell_type": "code",
      "metadata": {
        "id": "WeJGsG9a6oca"
      },
      "source": [
        "predictions = model.predict(feature_test)\n",
        "\n",
        "predictions = predictions.flatten()"
      ],
      "execution_count": null,
      "outputs": []
    },
    {
      "cell_type": "code",
      "metadata": {
        "id": "6RIqgTJK8EkK",
        "outputId": "e970435e-ad49-43ef-ceef-9a3450b3ed27",
        "colab": {
          "base_uri": "https://localhost:8080/",
          "height": 82
        }
      },
      "source": [
        "from sklearn.metrics import mean_squared_error, mean_absolute_error, r2_score\n",
        "\n",
        "mse = mean_squared_error(label_test, predictions)\n",
        "mae = mean_absolute_error(label_test, predictions)\n",
        "r2 = r2_score(label_test, predictions)\n",
        "print(\"MSE (Mean Squared Error)\", mse)\n",
        "print(\"MAE (Mean Absolute Error)\", mae)\n",
        "print(\"r^2 score\", r2)\n",
        "print('RMSE (Root Mean Squared Error', np.sqrt(mean_squared_error(label_test, predictions)))"
      ],
      "execution_count": null,
      "outputs": [
        {
          "output_type": "stream",
          "text": [
            "MSE (Mean Squared Error) 0.20314819222605682\n",
            "MAE (Mean Absolute Error) 0.33223712556229745\n",
            "r^2 score 0.7163219879749345\n",
            "RMSE (Root Mean Squared Error 0.4507196381633008\n"
          ],
          "name": "stdout"
        }
      ]
    },
    {
      "cell_type": "markdown",
      "metadata": {
        "id": "eeLikvdE9MsO"
      },
      "source": [
        "## Deeper Model"
      ]
    },
    {
      "cell_type": "code",
      "metadata": {
        "id": "MEiteeaV8YOc",
        "outputId": "3c7c38c4-78a2-4e28-c548-14e6e8b1bad8",
        "colab": {
          "base_uri": "https://localhost:8080/",
          "height": 1000
        }
      },
      "source": [
        "deeper_model = Sequential()\n",
        "deeper_model.add(Dense(13, input_dim=8, kernel_initializer='normal', activation='relu'))\n",
        "deeper_model.add(Dense(6, kernel_initializer='normal', activation='relu'))\n",
        "deeper_model.add(Dense(1, kernel_initializer='normal'))\n",
        "\n",
        "deeper_model.compile(loss='mean_squared_error', optimizer='adam')\n",
        "\n",
        "deeper_model.fit(x=feature_train, y=label_train, validation_data=(feature_test, label_test), epochs=50, batch_size=8)"
      ],
      "execution_count": null,
      "outputs": [
        {
          "output_type": "stream",
          "text": [
            "Epoch 1/50\n",
            "20/20 [==============================] - 0s 7ms/step - loss: 1.0706 - val_loss: 0.7185\n",
            "Epoch 2/50\n",
            "20/20 [==============================] - 0s 3ms/step - loss: 1.0641 - val_loss: 0.7120\n",
            "Epoch 3/50\n",
            "20/20 [==============================] - 0s 3ms/step - loss: 1.0473 - val_loss: 0.6963\n",
            "Epoch 4/50\n",
            "20/20 [==============================] - 0s 3ms/step - loss: 1.0115 - val_loss: 0.6636\n",
            "Epoch 5/50\n",
            "20/20 [==============================] - 0s 3ms/step - loss: 0.9526 - val_loss: 0.6126\n",
            "Epoch 6/50\n",
            "20/20 [==============================] - 0s 3ms/step - loss: 0.8588 - val_loss: 0.5563\n",
            "Epoch 7/50\n",
            "20/20 [==============================] - 0s 3ms/step - loss: 0.7587 - val_loss: 0.5067\n",
            "Epoch 8/50\n",
            "20/20 [==============================] - 0s 3ms/step - loss: 0.6634 - val_loss: 0.4754\n",
            "Epoch 9/50\n",
            "20/20 [==============================] - 0s 3ms/step - loss: 0.5861 - val_loss: 0.4542\n",
            "Epoch 10/50\n",
            "20/20 [==============================] - 0s 3ms/step - loss: 0.5233 - val_loss: 0.4447\n",
            "Epoch 11/50\n",
            "20/20 [==============================] - 0s 3ms/step - loss: 0.4786 - val_loss: 0.4393\n",
            "Epoch 12/50\n",
            "20/20 [==============================] - 0s 3ms/step - loss: 0.4526 - val_loss: 0.4364\n",
            "Epoch 13/50\n",
            "20/20 [==============================] - 0s 3ms/step - loss: 0.4340 - val_loss: 0.4242\n",
            "Epoch 14/50\n",
            "20/20 [==============================] - 0s 3ms/step - loss: 0.4206 - val_loss: 0.4154\n",
            "Epoch 15/50\n",
            "20/20 [==============================] - 0s 3ms/step - loss: 0.4116 - val_loss: 0.3992\n",
            "Epoch 16/50\n",
            "20/20 [==============================] - 0s 3ms/step - loss: 0.4023 - val_loss: 0.3987\n",
            "Epoch 17/50\n",
            "20/20 [==============================] - 0s 3ms/step - loss: 0.3961 - val_loss: 0.3769\n",
            "Epoch 18/50\n",
            "20/20 [==============================] - 0s 3ms/step - loss: 0.3838 - val_loss: 0.3764\n",
            "Epoch 19/50\n",
            "20/20 [==============================] - 0s 3ms/step - loss: 0.3762 - val_loss: 0.3572\n",
            "Epoch 20/50\n",
            "20/20 [==============================] - 0s 3ms/step - loss: 0.3702 - val_loss: 0.3426\n",
            "Epoch 21/50\n",
            "20/20 [==============================] - 0s 3ms/step - loss: 0.3617 - val_loss: 0.3341\n",
            "Epoch 22/50\n",
            "20/20 [==============================] - 0s 3ms/step - loss: 0.3551 - val_loss: 0.3274\n",
            "Epoch 23/50\n",
            "20/20 [==============================] - 0s 3ms/step - loss: 0.3492 - val_loss: 0.3192\n",
            "Epoch 24/50\n",
            "20/20 [==============================] - 0s 3ms/step - loss: 0.3447 - val_loss: 0.3091\n",
            "Epoch 25/50\n",
            "20/20 [==============================] - 0s 3ms/step - loss: 0.3372 - val_loss: 0.3021\n",
            "Epoch 26/50\n",
            "20/20 [==============================] - 0s 3ms/step - loss: 0.3353 - val_loss: 0.2901\n",
            "Epoch 27/50\n",
            "20/20 [==============================] - 0s 3ms/step - loss: 0.3257 - val_loss: 0.2864\n",
            "Epoch 28/50\n",
            "20/20 [==============================] - 0s 3ms/step - loss: 0.3213 - val_loss: 0.2777\n",
            "Epoch 29/50\n",
            "20/20 [==============================] - 0s 3ms/step - loss: 0.3179 - val_loss: 0.2696\n",
            "Epoch 30/50\n",
            "20/20 [==============================] - 0s 3ms/step - loss: 0.3130 - val_loss: 0.2618\n",
            "Epoch 31/50\n",
            "20/20 [==============================] - 0s 3ms/step - loss: 0.3070 - val_loss: 0.2581\n",
            "Epoch 32/50\n",
            "20/20 [==============================] - 0s 3ms/step - loss: 0.3038 - val_loss: 0.2519\n",
            "Epoch 33/50\n",
            "20/20 [==============================] - 0s 3ms/step - loss: 0.2989 - val_loss: 0.2459\n",
            "Epoch 34/50\n",
            "20/20 [==============================] - 0s 3ms/step - loss: 0.2944 - val_loss: 0.2407\n",
            "Epoch 35/50\n",
            "20/20 [==============================] - 0s 3ms/step - loss: 0.2906 - val_loss: 0.2345\n",
            "Epoch 36/50\n",
            "20/20 [==============================] - 0s 3ms/step - loss: 0.2851 - val_loss: 0.2291\n",
            "Epoch 37/50\n",
            "20/20 [==============================] - 0s 3ms/step - loss: 0.2811 - val_loss: 0.2249\n",
            "Epoch 38/50\n",
            "20/20 [==============================] - 0s 3ms/step - loss: 0.2773 - val_loss: 0.2198\n",
            "Epoch 39/50\n",
            "20/20 [==============================] - 0s 3ms/step - loss: 0.2736 - val_loss: 0.2175\n",
            "Epoch 40/50\n",
            "20/20 [==============================] - 0s 3ms/step - loss: 0.2705 - val_loss: 0.2129\n",
            "Epoch 41/50\n",
            "20/20 [==============================] - 0s 3ms/step - loss: 0.2628 - val_loss: 0.2071\n",
            "Epoch 42/50\n",
            "20/20 [==============================] - 0s 3ms/step - loss: 0.2602 - val_loss: 0.2041\n",
            "Epoch 43/50\n",
            "20/20 [==============================] - 0s 3ms/step - loss: 0.2551 - val_loss: 0.2002\n",
            "Epoch 44/50\n",
            "20/20 [==============================] - 0s 3ms/step - loss: 0.2501 - val_loss: 0.1963\n",
            "Epoch 45/50\n",
            "20/20 [==============================] - 0s 3ms/step - loss: 0.2480 - val_loss: 0.1926\n",
            "Epoch 46/50\n",
            "20/20 [==============================] - 0s 3ms/step - loss: 0.2456 - val_loss: 0.1888\n",
            "Epoch 47/50\n",
            "20/20 [==============================] - 0s 3ms/step - loss: 0.2394 - val_loss: 0.1882\n",
            "Epoch 48/50\n",
            "20/20 [==============================] - 0s 3ms/step - loss: 0.2356 - val_loss: 0.1833\n",
            "Epoch 49/50\n",
            "20/20 [==============================] - 0s 3ms/step - loss: 0.2327 - val_loss: 0.1818\n",
            "Epoch 50/50\n",
            "20/20 [==============================] - 0s 3ms/step - loss: 0.2271 - val_loss: 0.1790\n"
          ],
          "name": "stdout"
        },
        {
          "output_type": "execute_result",
          "data": {
            "text/plain": [
              "<tensorflow.python.keras.callbacks.History at 0x7f7887f1a9e8>"
            ]
          },
          "metadata": {
            "tags": []
          },
          "execution_count": 48
        }
      ]
    },
    {
      "cell_type": "code",
      "metadata": {
        "id": "lyJeIf8s8yL2"
      },
      "source": [
        "predictions = deeper_model.predict(feature_test)\n",
        "\n",
        "predictions = predictions.flatten()"
      ],
      "execution_count": null,
      "outputs": []
    },
    {
      "cell_type": "code",
      "metadata": {
        "id": "gP7CrS1n81Ue",
        "outputId": "3ed58c96-c802-4820-ef7f-8d3fd04df9ab",
        "colab": {
          "base_uri": "https://localhost:8080/",
          "height": 82
        }
      },
      "source": [
        "from sklearn.metrics import mean_squared_error, mean_absolute_error, r2_score\n",
        "\n",
        "mse = mean_squared_error(label_test, predictions)\n",
        "mae = mean_absolute_error(label_test, predictions)\n",
        "r2 = r2_score(label_test, predictions)\n",
        "print(\"MSE (Mean Squared Error)\", mse)\n",
        "print(\"MAE (Mean Absolute Error)\", mae)\n",
        "print(\"r^2 score\", r2)\n",
        "print('RMSE (Root Mean Squared Error', np.sqrt(mean_squared_error(label_test, predictions)))"
      ],
      "execution_count": null,
      "outputs": [
        {
          "output_type": "stream",
          "text": [
            "MSE (Mean Squared Error) 0.17896814128372948\n",
            "MAE (Mean Absolute Error) 0.3123560700062108\n",
            "r^2 score 0.7500872344524978\n",
            "RMSE (Root Mean Squared Error 0.42304626376287674\n"
          ],
          "name": "stdout"
        }
      ]
    },
    {
      "cell_type": "markdown",
      "metadata": {
        "id": "WAtLbRex9T7M"
      },
      "source": [
        "### Wider model"
      ]
    },
    {
      "cell_type": "code",
      "metadata": {
        "id": "VZrrMdLG9TZ3",
        "outputId": "cbf91519-65e3-46af-c5c6-b6c2cd6ce2bc",
        "colab": {
          "base_uri": "https://localhost:8080/",
          "height": 1000
        }
      },
      "source": [
        "wider_model = Sequential()\n",
        "wider_model.add(Dense(20, input_dim=8, kernel_initializer='normal', activation='relu'))\n",
        "wider_model.add(Dense(1, kernel_initializer='normal'))\n",
        "\n",
        "wider_model.compile(loss='mean_squared_error', optimizer='adam')\n",
        "\n",
        "history = wider_model.fit(x=feature_train, y=label_train, validation_data=(feature_test, label_test), epochs=100, batch_size=8)"
      ],
      "execution_count": null,
      "outputs": [
        {
          "output_type": "stream",
          "text": [
            "Epoch 1/100\n",
            "20/20 [==============================] - 0s 7ms/step - loss: 1.0530 - val_loss: 0.7031\n",
            "Epoch 2/100\n",
            "20/20 [==============================] - 0s 3ms/step - loss: 0.9967 - val_loss: 0.6721\n",
            "Epoch 3/100\n",
            "20/20 [==============================] - 0s 3ms/step - loss: 0.9230 - val_loss: 0.6318\n",
            "Epoch 4/100\n",
            "20/20 [==============================] - 0s 2ms/step - loss: 0.8339 - val_loss: 0.5860\n",
            "Epoch 5/100\n",
            "20/20 [==============================] - 0s 3ms/step - loss: 0.7181 - val_loss: 0.5434\n",
            "Epoch 6/100\n",
            "20/20 [==============================] - 0s 3ms/step - loss: 0.6240 - val_loss: 0.5025\n",
            "Epoch 7/100\n",
            "20/20 [==============================] - 0s 3ms/step - loss: 0.5480 - val_loss: 0.4774\n",
            "Epoch 8/100\n",
            "20/20 [==============================] - 0s 3ms/step - loss: 0.4997 - val_loss: 0.4588\n",
            "Epoch 9/100\n",
            "20/20 [==============================] - 0s 3ms/step - loss: 0.4662 - val_loss: 0.4481\n",
            "Epoch 10/100\n",
            "20/20 [==============================] - 0s 2ms/step - loss: 0.4451 - val_loss: 0.4283\n",
            "Epoch 11/100\n",
            "20/20 [==============================] - 0s 3ms/step - loss: 0.4256 - val_loss: 0.4165\n",
            "Epoch 12/100\n",
            "20/20 [==============================] - 0s 3ms/step - loss: 0.4141 - val_loss: 0.4025\n",
            "Epoch 13/100\n",
            "20/20 [==============================] - 0s 3ms/step - loss: 0.4014 - val_loss: 0.3900\n",
            "Epoch 14/100\n",
            "20/20 [==============================] - 0s 4ms/step - loss: 0.3943 - val_loss: 0.3779\n",
            "Epoch 15/100\n",
            "20/20 [==============================] - 0s 3ms/step - loss: 0.3847 - val_loss: 0.3699\n",
            "Epoch 16/100\n",
            "20/20 [==============================] - 0s 3ms/step - loss: 0.3771 - val_loss: 0.3581\n",
            "Epoch 17/100\n",
            "20/20 [==============================] - 0s 3ms/step - loss: 0.3709 - val_loss: 0.3503\n",
            "Epoch 18/100\n",
            "20/20 [==============================] - 0s 3ms/step - loss: 0.3634 - val_loss: 0.3383\n",
            "Epoch 19/100\n",
            "20/20 [==============================] - 0s 3ms/step - loss: 0.3603 - val_loss: 0.3318\n",
            "Epoch 20/100\n",
            "20/20 [==============================] - 0s 3ms/step - loss: 0.3503 - val_loss: 0.3222\n",
            "Epoch 21/100\n",
            "20/20 [==============================] - 0s 3ms/step - loss: 0.3462 - val_loss: 0.3128\n",
            "Epoch 22/100\n",
            "20/20 [==============================] - 0s 3ms/step - loss: 0.3406 - val_loss: 0.3084\n",
            "Epoch 23/100\n",
            "20/20 [==============================] - 0s 3ms/step - loss: 0.3336 - val_loss: 0.3018\n",
            "Epoch 24/100\n",
            "20/20 [==============================] - 0s 3ms/step - loss: 0.3294 - val_loss: 0.2952\n",
            "Epoch 25/100\n",
            "20/20 [==============================] - 0s 2ms/step - loss: 0.3240 - val_loss: 0.2905\n",
            "Epoch 26/100\n",
            "20/20 [==============================] - 0s 3ms/step - loss: 0.3182 - val_loss: 0.2871\n",
            "Epoch 27/100\n",
            "20/20 [==============================] - 0s 2ms/step - loss: 0.3141 - val_loss: 0.2854\n",
            "Epoch 28/100\n",
            "20/20 [==============================] - 0s 3ms/step - loss: 0.3095 - val_loss: 0.2762\n",
            "Epoch 29/100\n",
            "20/20 [==============================] - 0s 3ms/step - loss: 0.3056 - val_loss: 0.2723\n",
            "Epoch 30/100\n",
            "20/20 [==============================] - 0s 3ms/step - loss: 0.2994 - val_loss: 0.2674\n",
            "Epoch 31/100\n",
            "20/20 [==============================] - 0s 3ms/step - loss: 0.2960 - val_loss: 0.2622\n",
            "Epoch 32/100\n",
            "20/20 [==============================] - 0s 3ms/step - loss: 0.2928 - val_loss: 0.2586\n",
            "Epoch 33/100\n",
            "20/20 [==============================] - 0s 3ms/step - loss: 0.2852 - val_loss: 0.2527\n",
            "Epoch 34/100\n",
            "20/20 [==============================] - 0s 3ms/step - loss: 0.2830 - val_loss: 0.2486\n",
            "Epoch 35/100\n",
            "20/20 [==============================] - 0s 3ms/step - loss: 0.2793 - val_loss: 0.2490\n",
            "Epoch 36/100\n",
            "20/20 [==============================] - 0s 3ms/step - loss: 0.2728 - val_loss: 0.2438\n",
            "Epoch 37/100\n",
            "20/20 [==============================] - 0s 3ms/step - loss: 0.2700 - val_loss: 0.2425\n",
            "Epoch 38/100\n",
            "20/20 [==============================] - 0s 3ms/step - loss: 0.2686 - val_loss: 0.2402\n",
            "Epoch 39/100\n",
            "20/20 [==============================] - 0s 2ms/step - loss: 0.2662 - val_loss: 0.2373\n",
            "Epoch 40/100\n",
            "20/20 [==============================] - 0s 2ms/step - loss: 0.2601 - val_loss: 0.2348\n",
            "Epoch 41/100\n",
            "20/20 [==============================] - 0s 3ms/step - loss: 0.2569 - val_loss: 0.2335\n",
            "Epoch 42/100\n",
            "20/20 [==============================] - 0s 3ms/step - loss: 0.2569 - val_loss: 0.2323\n",
            "Epoch 43/100\n",
            "20/20 [==============================] - 0s 3ms/step - loss: 0.2528 - val_loss: 0.2296\n",
            "Epoch 44/100\n",
            "20/20 [==============================] - 0s 2ms/step - loss: 0.2490 - val_loss: 0.2302\n",
            "Epoch 45/100\n",
            "20/20 [==============================] - 0s 3ms/step - loss: 0.2480 - val_loss: 0.2263\n",
            "Epoch 46/100\n",
            "20/20 [==============================] - 0s 2ms/step - loss: 0.2437 - val_loss: 0.2268\n",
            "Epoch 47/100\n",
            "20/20 [==============================] - 0s 2ms/step - loss: 0.2416 - val_loss: 0.2245\n",
            "Epoch 48/100\n",
            "20/20 [==============================] - 0s 3ms/step - loss: 0.2401 - val_loss: 0.2200\n",
            "Epoch 49/100\n",
            "20/20 [==============================] - 0s 2ms/step - loss: 0.2363 - val_loss: 0.2196\n",
            "Epoch 50/100\n",
            "20/20 [==============================] - 0s 2ms/step - loss: 0.2365 - val_loss: 0.2170\n",
            "Epoch 51/100\n",
            "20/20 [==============================] - 0s 3ms/step - loss: 0.2319 - val_loss: 0.2171\n",
            "Epoch 52/100\n",
            "20/20 [==============================] - 0s 3ms/step - loss: 0.2301 - val_loss: 0.2140\n",
            "Epoch 53/100\n",
            "20/20 [==============================] - 0s 3ms/step - loss: 0.2283 - val_loss: 0.2158\n",
            "Epoch 54/100\n",
            "20/20 [==============================] - 0s 3ms/step - loss: 0.2275 - val_loss: 0.2135\n",
            "Epoch 55/100\n",
            "20/20 [==============================] - 0s 2ms/step - loss: 0.2265 - val_loss: 0.2114\n",
            "Epoch 56/100\n",
            "20/20 [==============================] - 0s 2ms/step - loss: 0.2234 - val_loss: 0.2078\n",
            "Epoch 57/100\n",
            "20/20 [==============================] - 0s 2ms/step - loss: 0.2221 - val_loss: 0.2101\n",
            "Epoch 58/100\n",
            "20/20 [==============================] - 0s 2ms/step - loss: 0.2187 - val_loss: 0.2065\n",
            "Epoch 59/100\n",
            "20/20 [==============================] - 0s 3ms/step - loss: 0.2209 - val_loss: 0.2055\n",
            "Epoch 60/100\n",
            "20/20 [==============================] - 0s 3ms/step - loss: 0.2170 - val_loss: 0.2040\n",
            "Epoch 61/100\n",
            "20/20 [==============================] - 0s 3ms/step - loss: 0.2146 - val_loss: 0.2030\n",
            "Epoch 62/100\n",
            "20/20 [==============================] - 0s 2ms/step - loss: 0.2115 - val_loss: 0.2014\n",
            "Epoch 63/100\n",
            "20/20 [==============================] - 0s 2ms/step - loss: 0.2099 - val_loss: 0.2003\n",
            "Epoch 64/100\n",
            "20/20 [==============================] - 0s 2ms/step - loss: 0.2073 - val_loss: 0.1991\n",
            "Epoch 65/100\n",
            "20/20 [==============================] - 0s 2ms/step - loss: 0.2058 - val_loss: 0.1978\n",
            "Epoch 66/100\n",
            "20/20 [==============================] - 0s 3ms/step - loss: 0.2044 - val_loss: 0.1969\n",
            "Epoch 67/100\n",
            "20/20 [==============================] - 0s 3ms/step - loss: 0.2031 - val_loss: 0.1960\n",
            "Epoch 68/100\n",
            "20/20 [==============================] - 0s 3ms/step - loss: 0.2013 - val_loss: 0.1957\n",
            "Epoch 69/100\n",
            "20/20 [==============================] - 0s 3ms/step - loss: 0.2003 - val_loss: 0.1932\n",
            "Epoch 70/100\n",
            "20/20 [==============================] - 0s 3ms/step - loss: 0.1970 - val_loss: 0.1930\n",
            "Epoch 71/100\n",
            "20/20 [==============================] - 0s 2ms/step - loss: 0.1958 - val_loss: 0.1938\n",
            "Epoch 72/100\n",
            "20/20 [==============================] - 0s 2ms/step - loss: 0.1953 - val_loss: 0.1934\n",
            "Epoch 73/100\n",
            "20/20 [==============================] - 0s 2ms/step - loss: 0.1950 - val_loss: 0.1924\n",
            "Epoch 74/100\n",
            "20/20 [==============================] - 0s 2ms/step - loss: 0.1934 - val_loss: 0.1902\n",
            "Epoch 75/100\n",
            "20/20 [==============================] - 0s 2ms/step - loss: 0.1914 - val_loss: 0.1918\n",
            "Epoch 76/100\n",
            "20/20 [==============================] - 0s 2ms/step - loss: 0.1893 - val_loss: 0.1913\n",
            "Epoch 77/100\n",
            "20/20 [==============================] - 0s 3ms/step - loss: 0.1882 - val_loss: 0.1911\n",
            "Epoch 78/100\n",
            "20/20 [==============================] - 0s 3ms/step - loss: 0.1878 - val_loss: 0.1911\n",
            "Epoch 79/100\n",
            "20/20 [==============================] - 0s 3ms/step - loss: 0.1859 - val_loss: 0.1894\n",
            "Epoch 80/100\n",
            "20/20 [==============================] - 0s 3ms/step - loss: 0.1847 - val_loss: 0.1891\n",
            "Epoch 81/100\n",
            "20/20 [==============================] - 0s 3ms/step - loss: 0.1846 - val_loss: 0.1899\n",
            "Epoch 82/100\n",
            "20/20 [==============================] - 0s 3ms/step - loss: 0.1820 - val_loss: 0.1883\n",
            "Epoch 83/100\n",
            "20/20 [==============================] - 0s 3ms/step - loss: 0.1820 - val_loss: 0.1906\n",
            "Epoch 84/100\n",
            "20/20 [==============================] - 0s 2ms/step - loss: 0.1807 - val_loss: 0.1890\n",
            "Epoch 85/100\n",
            "20/20 [==============================] - 0s 3ms/step - loss: 0.1792 - val_loss: 0.1886\n",
            "Epoch 86/100\n",
            "20/20 [==============================] - 0s 3ms/step - loss: 0.1788 - val_loss: 0.1904\n",
            "Epoch 87/100\n",
            "20/20 [==============================] - 0s 3ms/step - loss: 0.1771 - val_loss: 0.1891\n",
            "Epoch 88/100\n",
            "20/20 [==============================] - 0s 2ms/step - loss: 0.1760 - val_loss: 0.1877\n",
            "Epoch 89/100\n",
            "20/20 [==============================] - 0s 2ms/step - loss: 0.1755 - val_loss: 0.1895\n",
            "Epoch 90/100\n",
            "20/20 [==============================] - 0s 2ms/step - loss: 0.1741 - val_loss: 0.1886\n",
            "Epoch 91/100\n",
            "20/20 [==============================] - 0s 3ms/step - loss: 0.1776 - val_loss: 0.1894\n",
            "Epoch 92/100\n",
            "20/20 [==============================] - 0s 2ms/step - loss: 0.1705 - val_loss: 0.1881\n",
            "Epoch 93/100\n",
            "20/20 [==============================] - 0s 3ms/step - loss: 0.1713 - val_loss: 0.1886\n",
            "Epoch 94/100\n",
            "20/20 [==============================] - 0s 2ms/step - loss: 0.1693 - val_loss: 0.1877\n",
            "Epoch 95/100\n",
            "20/20 [==============================] - 0s 3ms/step - loss: 0.1702 - val_loss: 0.1890\n",
            "Epoch 96/100\n",
            "20/20 [==============================] - 0s 3ms/step - loss: 0.1683 - val_loss: 0.1876\n",
            "Epoch 97/100\n",
            "20/20 [==============================] - 0s 3ms/step - loss: 0.1683 - val_loss: 0.1887\n",
            "Epoch 98/100\n",
            "20/20 [==============================] - 0s 3ms/step - loss: 0.1658 - val_loss: 0.1888\n",
            "Epoch 99/100\n",
            "20/20 [==============================] - 0s 2ms/step - loss: 0.1654 - val_loss: 0.1882\n",
            "Epoch 100/100\n",
            "20/20 [==============================] - 0s 3ms/step - loss: 0.1635 - val_loss: 0.1877\n"
          ],
          "name": "stdout"
        }
      ]
    },
    {
      "cell_type": "code",
      "metadata": {
        "id": "LSMU9ueG9gFY"
      },
      "source": [
        "predictions = wider_model.predict(feature_test)\n",
        "\n",
        "predictions = predictions.flatten()"
      ],
      "execution_count": null,
      "outputs": []
    },
    {
      "cell_type": "code",
      "metadata": {
        "id": "ckZvvz7h9jB_",
        "outputId": "f19ff9a1-f191-4213-d497-993459733097",
        "colab": {
          "base_uri": "https://localhost:8080/",
          "height": 82
        }
      },
      "source": [
        "from sklearn.metrics import mean_squared_error, mean_absolute_error, r2_score\n",
        "\n",
        "mse = mean_squared_error(label_test, predictions)\n",
        "mae = mean_absolute_error(label_test, predictions)\n",
        "r2 = r2_score(label_test, predictions)\n",
        "print(\"MSE (Mean Squared Error)\", mse)\n",
        "print(\"MAE (Mean Absolute Error)\", mae)\n",
        "print(\"r^2 score\", r2)\n",
        "print('RMSE (Root Mean Squared Error', np.sqrt(mean_squared_error(label_test, predictions)))"
      ],
      "execution_count": null,
      "outputs": [
        {
          "output_type": "stream",
          "text": [
            "MSE (Mean Squared Error) 0.1876631506671959\n",
            "MAE (Mean Absolute Error) 0.29800643927910436\n",
            "r^2 score 0.7379454430370158\n",
            "RMSE (Root Mean Squared Error 0.4332010510919796\n"
          ],
          "name": "stdout"
        }
      ]
    },
    {
      "cell_type": "code",
      "metadata": {
        "id": "ovt4YX7h-Gq7"
      },
      "source": [
        "def plot_loss(history):\n",
        "  plt.plot(history.history['loss'], label='loss')\n",
        "  plt.plot(history.history['val_loss'], label='val_loss')\n",
        "  plt.xlabel('Epoch')\n",
        "  plt.ylabel('Loss (MSE)')\n",
        "  plt.legend()\n",
        "  plt.grid(True)"
      ],
      "execution_count": null,
      "outputs": []
    },
    {
      "cell_type": "code",
      "metadata": {
        "id": "EhnVfEv0-JAS",
        "outputId": "15654253-bf51-4e61-c537-8330366c72de",
        "colab": {
          "base_uri": "https://localhost:8080/",
          "height": 391
        }
      },
      "source": [
        "history_dataframe = pd.DataFrame(history.history)\n",
        "history_dataframe['epoch'] = history.epoch\n",
        "history_dataframe"
      ],
      "execution_count": null,
      "outputs": [
        {
          "output_type": "execute_result",
          "data": {
            "text/html": [
              "<div>\n",
              "<style scoped>\n",
              "    .dataframe tbody tr th:only-of-type {\n",
              "        vertical-align: middle;\n",
              "    }\n",
              "\n",
              "    .dataframe tbody tr th {\n",
              "        vertical-align: top;\n",
              "    }\n",
              "\n",
              "    .dataframe thead th {\n",
              "        text-align: right;\n",
              "    }\n",
              "</style>\n",
              "<table border=\"1\" class=\"dataframe\">\n",
              "  <thead>\n",
              "    <tr style=\"text-align: right;\">\n",
              "      <th></th>\n",
              "      <th>loss</th>\n",
              "      <th>val_loss</th>\n",
              "      <th>epoch</th>\n",
              "    </tr>\n",
              "  </thead>\n",
              "  <tbody>\n",
              "    <tr>\n",
              "      <th>0</th>\n",
              "      <td>1.053002</td>\n",
              "      <td>0.703073</td>\n",
              "      <td>0</td>\n",
              "    </tr>\n",
              "    <tr>\n",
              "      <th>1</th>\n",
              "      <td>0.996729</td>\n",
              "      <td>0.672098</td>\n",
              "      <td>1</td>\n",
              "    </tr>\n",
              "    <tr>\n",
              "      <th>2</th>\n",
              "      <td>0.922953</td>\n",
              "      <td>0.631786</td>\n",
              "      <td>2</td>\n",
              "    </tr>\n",
              "    <tr>\n",
              "      <th>3</th>\n",
              "      <td>0.833886</td>\n",
              "      <td>0.585997</td>\n",
              "      <td>3</td>\n",
              "    </tr>\n",
              "    <tr>\n",
              "      <th>4</th>\n",
              "      <td>0.718055</td>\n",
              "      <td>0.543356</td>\n",
              "      <td>4</td>\n",
              "    </tr>\n",
              "    <tr>\n",
              "      <th>...</th>\n",
              "      <td>...</td>\n",
              "      <td>...</td>\n",
              "      <td>...</td>\n",
              "    </tr>\n",
              "    <tr>\n",
              "      <th>95</th>\n",
              "      <td>0.168311</td>\n",
              "      <td>0.187555</td>\n",
              "      <td>95</td>\n",
              "    </tr>\n",
              "    <tr>\n",
              "      <th>96</th>\n",
              "      <td>0.168255</td>\n",
              "      <td>0.188714</td>\n",
              "      <td>96</td>\n",
              "    </tr>\n",
              "    <tr>\n",
              "      <th>97</th>\n",
              "      <td>0.165760</td>\n",
              "      <td>0.188839</td>\n",
              "      <td>97</td>\n",
              "    </tr>\n",
              "    <tr>\n",
              "      <th>98</th>\n",
              "      <td>0.165444</td>\n",
              "      <td>0.188186</td>\n",
              "      <td>98</td>\n",
              "    </tr>\n",
              "    <tr>\n",
              "      <th>99</th>\n",
              "      <td>0.163507</td>\n",
              "      <td>0.187663</td>\n",
              "      <td>99</td>\n",
              "    </tr>\n",
              "  </tbody>\n",
              "</table>\n",
              "<p>100 rows × 3 columns</p>\n",
              "</div>"
            ],
            "text/plain": [
              "        loss  val_loss  epoch\n",
              "0   1.053002  0.703073      0\n",
              "1   0.996729  0.672098      1\n",
              "2   0.922953  0.631786      2\n",
              "3   0.833886  0.585997      3\n",
              "4   0.718055  0.543356      4\n",
              "..       ...       ...    ...\n",
              "95  0.168311  0.187555     95\n",
              "96  0.168255  0.188714     96\n",
              "97  0.165760  0.188839     97\n",
              "98  0.165444  0.188186     98\n",
              "99  0.163507  0.187663     99\n",
              "\n",
              "[100 rows x 3 columns]"
            ]
          },
          "metadata": {
            "tags": []
          },
          "execution_count": 55
        }
      ]
    },
    {
      "cell_type": "code",
      "metadata": {
        "id": "5R67GHJZ8ce2",
        "outputId": "14b4c2aa-a5c4-4782-8c4c-a998ae58d44d",
        "colab": {
          "base_uri": "https://localhost:8080/",
          "height": 391
        }
      },
      "source": [
        "history_dataframe.sort_values(by='val_loss', ascending=True)"
      ],
      "execution_count": null,
      "outputs": [
        {
          "output_type": "execute_result",
          "data": {
            "text/html": [
              "<div>\n",
              "<style scoped>\n",
              "    .dataframe tbody tr th:only-of-type {\n",
              "        vertical-align: middle;\n",
              "    }\n",
              "\n",
              "    .dataframe tbody tr th {\n",
              "        vertical-align: top;\n",
              "    }\n",
              "\n",
              "    .dataframe thead th {\n",
              "        text-align: right;\n",
              "    }\n",
              "</style>\n",
              "<table border=\"1\" class=\"dataframe\">\n",
              "  <thead>\n",
              "    <tr style=\"text-align: right;\">\n",
              "      <th></th>\n",
              "      <th>loss</th>\n",
              "      <th>val_loss</th>\n",
              "      <th>epoch</th>\n",
              "    </tr>\n",
              "  </thead>\n",
              "  <tbody>\n",
              "    <tr>\n",
              "      <th>95</th>\n",
              "      <td>0.168311</td>\n",
              "      <td>0.187555</td>\n",
              "      <td>95</td>\n",
              "    </tr>\n",
              "    <tr>\n",
              "      <th>99</th>\n",
              "      <td>0.163507</td>\n",
              "      <td>0.187663</td>\n",
              "      <td>99</td>\n",
              "    </tr>\n",
              "    <tr>\n",
              "      <th>87</th>\n",
              "      <td>0.176013</td>\n",
              "      <td>0.187665</td>\n",
              "      <td>87</td>\n",
              "    </tr>\n",
              "    <tr>\n",
              "      <th>93</th>\n",
              "      <td>0.169287</td>\n",
              "      <td>0.187707</td>\n",
              "      <td>93</td>\n",
              "    </tr>\n",
              "    <tr>\n",
              "      <th>91</th>\n",
              "      <td>0.170469</td>\n",
              "      <td>0.188133</td>\n",
              "      <td>91</td>\n",
              "    </tr>\n",
              "    <tr>\n",
              "      <th>...</th>\n",
              "      <td>...</td>\n",
              "      <td>...</td>\n",
              "      <td>...</td>\n",
              "    </tr>\n",
              "    <tr>\n",
              "      <th>4</th>\n",
              "      <td>0.718055</td>\n",
              "      <td>0.543356</td>\n",
              "      <td>4</td>\n",
              "    </tr>\n",
              "    <tr>\n",
              "      <th>3</th>\n",
              "      <td>0.833886</td>\n",
              "      <td>0.585997</td>\n",
              "      <td>3</td>\n",
              "    </tr>\n",
              "    <tr>\n",
              "      <th>2</th>\n",
              "      <td>0.922953</td>\n",
              "      <td>0.631786</td>\n",
              "      <td>2</td>\n",
              "    </tr>\n",
              "    <tr>\n",
              "      <th>1</th>\n",
              "      <td>0.996729</td>\n",
              "      <td>0.672098</td>\n",
              "      <td>1</td>\n",
              "    </tr>\n",
              "    <tr>\n",
              "      <th>0</th>\n",
              "      <td>1.053002</td>\n",
              "      <td>0.703073</td>\n",
              "      <td>0</td>\n",
              "    </tr>\n",
              "  </tbody>\n",
              "</table>\n",
              "<p>100 rows × 3 columns</p>\n",
              "</div>"
            ],
            "text/plain": [
              "        loss  val_loss  epoch\n",
              "95  0.168311  0.187555     95\n",
              "99  0.163507  0.187663     99\n",
              "87  0.176013  0.187665     87\n",
              "93  0.169287  0.187707     93\n",
              "91  0.170469  0.188133     91\n",
              "..       ...       ...    ...\n",
              "4   0.718055  0.543356      4\n",
              "3   0.833886  0.585997      3\n",
              "2   0.922953  0.631786      2\n",
              "1   0.996729  0.672098      1\n",
              "0   1.053002  0.703073      0\n",
              "\n",
              "[100 rows x 3 columns]"
            ]
          },
          "metadata": {
            "tags": []
          },
          "execution_count": 56
        }
      ]
    },
    {
      "cell_type": "code",
      "metadata": {
        "id": "H4BETmmT-VPy",
        "outputId": "8456c6f7-2e8e-4ea4-880a-8ce38ea96aca",
        "colab": {
          "base_uri": "https://localhost:8080/",
          "height": 278
        }
      },
      "source": [
        "plot_loss(history) # epoch vs loss graph #untuk wider"
      ],
      "execution_count": null,
      "outputs": [
        {
          "output_type": "display_data",
          "data": {
            "image/png": "[encoded data removed]",
            "text/plain": [
              "<Figure size 432x288 with 1 Axes>"
            ]
          },
          "metadata": {
            "tags": [],
            "needs_background": "light"
          }
        }
      ]
    },
    {
      "cell_type": "markdown",
      "metadata": {
        "id": "HTo4KlR-XvA4"
      },
      "source": [
        "LINEAR REGRESSION"
      ]
    },
    {
      "cell_type": "markdown",
      "metadata": {
        "id": "FOTXjrmpWcuQ"
      },
      "source": [
        "r^2 score : 0.6582019578480833\n",
        "\n",
        "\n",
        "RMSE : 0.49474159966550924"
      ]
    },
    {
      "cell_type": "markdown",
      "metadata": {
        "id": "x3HOmokKWkyW"
      },
      "source": [
        "DEEP LEARNING"
      ]
    },
    {
      "cell_type": "markdown",
      "metadata": {
        "id": "IXVPE1TDWq1f"
      },
      "source": [
        "r^2 score : 0.7163219879749345\n",
        "\n",
        "\n",
        "RMSE : 0.4507196381633008"
      ]
    },
    {
      "cell_type": "markdown",
      "metadata": {
        "id": "KiG7OgcAW1we"
      },
      "source": [
        "DEEPER MODEL"
      ]
    },
    {
      "cell_type": "markdown",
      "metadata": {
        "id": "vGwlciNuW7N5"
      },
      "source": [
        "r^2 score : 0.7500872344524978\n",
        "\n",
        "\n",
        "RMSE : 0.42304626376287674"
      ]
    },
    {
      "cell_type": "markdown",
      "metadata": {
        "id": "G8rVD2-VW_eF"
      },
      "source": [
        "WIDER MODEL"
      ]
    },
    {
      "cell_type": "markdown",
      "metadata": {
        "id": "9S9XiqDYXFKp"
      },
      "source": [
        "r^2 score : 0.7379454430370158\n",
        "\n",
        "\n",
        "RMSE : 0.4332010510919796"
      ]
    },
    {
      "cell_type": "markdown",
      "metadata": {
        "id": "FPfhi_zfXR21"
      },
      "source": [
        "Kesimpulan : nilai akurasi yang paling tinggi didapatkan pada Deeper model yaitu sebesar 75% dan nilai rmse nya juga kecil 0.42"
      ]
    }
  ]
}