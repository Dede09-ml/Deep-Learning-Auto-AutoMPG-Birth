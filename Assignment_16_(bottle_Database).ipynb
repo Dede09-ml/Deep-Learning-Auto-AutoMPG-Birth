{
  "nbformat": 4,
  "nbformat_minor": 0,
  "metadata": {
    "colab": {
      "name": "Assignment 16 (bottle Database).ipynb",
      "provenance": [],
      "collapsed_sections": [],
      "toc_visible": true
    },
    "kernelspec": {
      "name": "python3",
      "display_name": "Python 3"
    },
    "accelerator": "TPU"
  },
  "cells": [
    {
      "cell_type": "code",
      "metadata": {
        "id": "IWfVTT4XlLnJ",
        "outputId": "a5c6648d-d68f-4732-8d5c-ee9404706c6f",
        "colab": {
          "base_uri": "https://localhost:8080/",
          "height": 33
        }
      },
      "source": [
        "from google.colab import drive\n",
        "drive.mount('/content/drive')"
      ],
      "execution_count": null,
      "outputs": [
        {
          "output_type": "stream",
          "text": [
            "Drive already mounted at /content/drive; to attempt to forcibly remount, call drive.mount(\"/content/drive\", force_remount=True).\n"
          ],
          "name": "stdout"
        }
      ]
    },
    {
      "cell_type": "code",
      "metadata": {
        "id": "9Ca7AjNBaMin"
      },
      "source": [
        "import pandas as pd\n",
        "import numpy as np\n",
        "import matplotlib.pyplot as plt\n",
        "import os\n",
        "import seaborn as sb"
      ],
      "execution_count": null,
      "outputs": []
    },
    {
      "cell_type": "code",
      "metadata": {
        "id": "u9fnC_0D3Rq0",
        "outputId": "4c06ca7f-0999-45c3-8697-14491ae75a55",
        "colab": {
          "base_uri": "https://localhost:8080/",
          "height": 391
        }
      },
      "source": [
        "dataset = pd.read_csv('/content/drive/My Drive/Dataset/bottle-updated.csv')\n",
        "\n",
        "# dataset.describe().transpose()\n",
        "dataset"
      ],
      "execution_count": null,
      "outputs": [
        {
          "output_type": "execute_result",
          "data": {
            "text/html": [
              "<div>\n",
              "<style scoped>\n",
              "    .dataframe tbody tr th:only-of-type {\n",
              "        vertical-align: middle;\n",
              "    }\n",
              "\n",
              "    .dataframe tbody tr th {\n",
              "        vertical-align: top;\n",
              "    }\n",
              "\n",
              "    .dataframe thead th {\n",
              "        text-align: right;\n",
              "    }\n",
              "</style>\n",
              "<table border=\"1\" class=\"dataframe\">\n",
              "  <thead>\n",
              "    <tr style=\"text-align: right;\">\n",
              "      <th></th>\n",
              "      <th>Unnamed: 0</th>\n",
              "      <th>Depthm</th>\n",
              "      <th>T_degC</th>\n",
              "      <th>Salnty</th>\n",
              "    </tr>\n",
              "  </thead>\n",
              "  <tbody>\n",
              "    <tr>\n",
              "      <th>0</th>\n",
              "      <td>0</td>\n",
              "      <td>0</td>\n",
              "      <td>10.500</td>\n",
              "      <td>33.4400</td>\n",
              "    </tr>\n",
              "    <tr>\n",
              "      <th>1</th>\n",
              "      <td>1</td>\n",
              "      <td>8</td>\n",
              "      <td>10.460</td>\n",
              "      <td>33.4400</td>\n",
              "    </tr>\n",
              "    <tr>\n",
              "      <th>2</th>\n",
              "      <td>2</td>\n",
              "      <td>10</td>\n",
              "      <td>10.460</td>\n",
              "      <td>33.4370</td>\n",
              "    </tr>\n",
              "    <tr>\n",
              "      <th>3</th>\n",
              "      <td>3</td>\n",
              "      <td>19</td>\n",
              "      <td>10.450</td>\n",
              "      <td>33.4200</td>\n",
              "    </tr>\n",
              "    <tr>\n",
              "      <th>4</th>\n",
              "      <td>4</td>\n",
              "      <td>20</td>\n",
              "      <td>10.450</td>\n",
              "      <td>33.4210</td>\n",
              "    </tr>\n",
              "    <tr>\n",
              "      <th>...</th>\n",
              "      <td>...</td>\n",
              "      <td>...</td>\n",
              "      <td>...</td>\n",
              "      <td>...</td>\n",
              "    </tr>\n",
              "    <tr>\n",
              "      <th>864858</th>\n",
              "      <td>864858</td>\n",
              "      <td>0</td>\n",
              "      <td>18.744</td>\n",
              "      <td>33.4083</td>\n",
              "    </tr>\n",
              "    <tr>\n",
              "      <th>864859</th>\n",
              "      <td>864859</td>\n",
              "      <td>2</td>\n",
              "      <td>18.744</td>\n",
              "      <td>33.4083</td>\n",
              "    </tr>\n",
              "    <tr>\n",
              "      <th>864860</th>\n",
              "      <td>864860</td>\n",
              "      <td>5</td>\n",
              "      <td>18.692</td>\n",
              "      <td>33.4150</td>\n",
              "    </tr>\n",
              "    <tr>\n",
              "      <th>864861</th>\n",
              "      <td>864861</td>\n",
              "      <td>10</td>\n",
              "      <td>18.161</td>\n",
              "      <td>33.4062</td>\n",
              "    </tr>\n",
              "    <tr>\n",
              "      <th>864862</th>\n",
              "      <td>864862</td>\n",
              "      <td>15</td>\n",
              "      <td>17.533</td>\n",
              "      <td>33.3880</td>\n",
              "    </tr>\n",
              "  </tbody>\n",
              "</table>\n",
              "<p>864863 rows × 4 columns</p>\n",
              "</div>"
            ],
            "text/plain": [
              "        Unnamed: 0  Depthm  T_degC   Salnty\n",
              "0                0       0  10.500  33.4400\n",
              "1                1       8  10.460  33.4400\n",
              "2                2      10  10.460  33.4370\n",
              "3                3      19  10.450  33.4200\n",
              "4                4      20  10.450  33.4210\n",
              "...            ...     ...     ...      ...\n",
              "864858      864858       0  18.744  33.4083\n",
              "864859      864859       2  18.744  33.4083\n",
              "864860      864860       5  18.692  33.4150\n",
              "864861      864861      10  18.161  33.4062\n",
              "864862      864862      15  17.533  33.3880\n",
              "\n",
              "[864863 rows x 4 columns]"
            ]
          },
          "metadata": {
            "tags": []
          },
          "execution_count": 37
        }
      ]
    },
    {
      "cell_type": "code",
      "metadata": {
        "id": "XgmWiFQ1H_sO"
      },
      "source": [
        "dataset = dataset.drop(['Unnamed: 0'], axis=1)"
      ],
      "execution_count": null,
      "outputs": []
    },
    {
      "cell_type": "code",
      "metadata": {
        "id": "awgWeLscIIva",
        "outputId": "48596ac1-ec78-41a5-e614-08be7b9331be",
        "colab": {
          "base_uri": "https://localhost:8080/",
          "height": 277
        }
      },
      "source": [
        "dataset.describe()"
      ],
      "execution_count": null,
      "outputs": [
        {
          "output_type": "execute_result",
          "data": {
            "text/html": [
              "<div>\n",
              "<style scoped>\n",
              "    .dataframe tbody tr th:only-of-type {\n",
              "        vertical-align: middle;\n",
              "    }\n",
              "\n",
              "    .dataframe tbody tr th {\n",
              "        vertical-align: top;\n",
              "    }\n",
              "\n",
              "    .dataframe thead th {\n",
              "        text-align: right;\n",
              "    }\n",
              "</style>\n",
              "<table border=\"1\" class=\"dataframe\">\n",
              "  <thead>\n",
              "    <tr style=\"text-align: right;\">\n",
              "      <th></th>\n",
              "      <th>Depthm</th>\n",
              "      <th>T_degC</th>\n",
              "      <th>Salnty</th>\n",
              "    </tr>\n",
              "  </thead>\n",
              "  <tbody>\n",
              "    <tr>\n",
              "      <th>count</th>\n",
              "      <td>864863.000000</td>\n",
              "      <td>853900.000000</td>\n",
              "      <td>817509.000000</td>\n",
              "    </tr>\n",
              "    <tr>\n",
              "      <th>mean</th>\n",
              "      <td>226.831951</td>\n",
              "      <td>10.799677</td>\n",
              "      <td>33.840350</td>\n",
              "    </tr>\n",
              "    <tr>\n",
              "      <th>std</th>\n",
              "      <td>316.050259</td>\n",
              "      <td>4.243825</td>\n",
              "      <td>0.461843</td>\n",
              "    </tr>\n",
              "    <tr>\n",
              "      <th>min</th>\n",
              "      <td>0.000000</td>\n",
              "      <td>1.440000</td>\n",
              "      <td>28.431000</td>\n",
              "    </tr>\n",
              "    <tr>\n",
              "      <th>25%</th>\n",
              "      <td>46.000000</td>\n",
              "      <td>7.680000</td>\n",
              "      <td>33.488000</td>\n",
              "    </tr>\n",
              "    <tr>\n",
              "      <th>50%</th>\n",
              "      <td>125.000000</td>\n",
              "      <td>10.060000</td>\n",
              "      <td>33.863000</td>\n",
              "    </tr>\n",
              "    <tr>\n",
              "      <th>75%</th>\n",
              "      <td>300.000000</td>\n",
              "      <td>13.880000</td>\n",
              "      <td>34.196900</td>\n",
              "    </tr>\n",
              "    <tr>\n",
              "      <th>max</th>\n",
              "      <td>5351.000000</td>\n",
              "      <td>31.140000</td>\n",
              "      <td>37.034000</td>\n",
              "    </tr>\n",
              "  </tbody>\n",
              "</table>\n",
              "</div>"
            ],
            "text/plain": [
              "              Depthm         T_degC         Salnty\n",
              "count  864863.000000  853900.000000  817509.000000\n",
              "mean      226.831951      10.799677      33.840350\n",
              "std       316.050259       4.243825       0.461843\n",
              "min         0.000000       1.440000      28.431000\n",
              "25%        46.000000       7.680000      33.488000\n",
              "50%       125.000000      10.060000      33.863000\n",
              "75%       300.000000      13.880000      34.196900\n",
              "max      5351.000000      31.140000      37.034000"
            ]
          },
          "metadata": {
            "tags": []
          },
          "execution_count": 39
        }
      ]
    },
    {
      "cell_type": "code",
      "metadata": {
        "id": "1ujPAJ533bZs",
        "outputId": "fde5b7b2-356d-4d2c-8f01-98d06bc1a00b",
        "colab": {
          "base_uri": "https://localhost:8080/",
          "height": 180
        }
      },
      "source": [
        "dataset.info()"
      ],
      "execution_count": null,
      "outputs": [
        {
          "output_type": "stream",
          "text": [
            "<class 'pandas.core.frame.DataFrame'>\n",
            "RangeIndex: 864863 entries, 0 to 864862\n",
            "Data columns (total 3 columns):\n",
            " #   Column  Non-Null Count   Dtype  \n",
            "---  ------  --------------   -----  \n",
            " 0   Depthm  864863 non-null  int64  \n",
            " 1   T_degC  853900 non-null  float64\n",
            " 2   Salnty  817509 non-null  float64\n",
            "dtypes: float64(2), int64(1)\n",
            "memory usage: 19.8 MB\n"
          ],
          "name": "stdout"
        }
      ]
    },
    {
      "cell_type": "code",
      "metadata": {
        "id": "NXHl9zTK3cr7",
        "outputId": "0329305d-227a-4868-b4d5-0f9a73a06ccb",
        "colab": {
          "base_uri": "https://localhost:8080/",
          "height": 1000
        }
      },
      "source": [
        "dataset.hist(figsize=(18, 22), bins=50, xlabelsize=8, ylabelsize=8)"
      ],
      "execution_count": null,
      "outputs": [
        {
          "output_type": "execute_result",
          "data": {
            "text/plain": [
              "array([[<matplotlib.axes._subplots.AxesSubplot object at 0x7f1f1d2f6438>,\n",
              "        <matplotlib.axes._subplots.AxesSubplot object at 0x7f1f1a931080>],\n",
              "       [<matplotlib.axes._subplots.AxesSubplot object at 0x7f1f1a8e83c8>,\n",
              "        <matplotlib.axes._subplots.AxesSubplot object at 0x7f1f1a895748>]],\n",
              "      dtype=object)"
            ]
          },
          "metadata": {
            "tags": []
          },
          "execution_count": 41
        },
        {
          "output_type": "display_data",
          "data": {
            "image/png": "[encoded data removed]",
            "text/plain": [
              "<Figure size 1296x1584 with 4 Axes>"
            ]
          },
          "metadata": {
            "tags": [],
            "needs_background": "light"
          }
        }
      ]
    },
    {
      "cell_type": "code",
      "metadata": {
        "id": "qtOpXsc6v31G",
        "outputId": "b6d8c109-9875-46bb-da98-aaaf030f0717",
        "colab": {
          "base_uri": "https://localhost:8080/",
          "height": 191
        }
      },
      "source": [
        "#dataCleaning\n",
        "#replace nilai ? dengan none\n",
        "dataset.replace(\"?\", np.nan, inplace=True)\n",
        "\n",
        "dataset.head()"
      ],
      "execution_count": null,
      "outputs": [
        {
          "output_type": "execute_result",
          "data": {
            "text/html": [
              "<div>\n",
              "<style scoped>\n",
              "    .dataframe tbody tr th:only-of-type {\n",
              "        vertical-align: middle;\n",
              "    }\n",
              "\n",
              "    .dataframe tbody tr th {\n",
              "        vertical-align: top;\n",
              "    }\n",
              "\n",
              "    .dataframe thead th {\n",
              "        text-align: right;\n",
              "    }\n",
              "</style>\n",
              "<table border=\"1\" class=\"dataframe\">\n",
              "  <thead>\n",
              "    <tr style=\"text-align: right;\">\n",
              "      <th></th>\n",
              "      <th>Depthm</th>\n",
              "      <th>T_degC</th>\n",
              "      <th>Salnty</th>\n",
              "    </tr>\n",
              "  </thead>\n",
              "  <tbody>\n",
              "    <tr>\n",
              "      <th>0</th>\n",
              "      <td>0</td>\n",
              "      <td>10.50</td>\n",
              "      <td>33.440</td>\n",
              "    </tr>\n",
              "    <tr>\n",
              "      <th>1</th>\n",
              "      <td>8</td>\n",
              "      <td>10.46</td>\n",
              "      <td>33.440</td>\n",
              "    </tr>\n",
              "    <tr>\n",
              "      <th>2</th>\n",
              "      <td>10</td>\n",
              "      <td>10.46</td>\n",
              "      <td>33.437</td>\n",
              "    </tr>\n",
              "    <tr>\n",
              "      <th>3</th>\n",
              "      <td>19</td>\n",
              "      <td>10.45</td>\n",
              "      <td>33.420</td>\n",
              "    </tr>\n",
              "    <tr>\n",
              "      <th>4</th>\n",
              "      <td>20</td>\n",
              "      <td>10.45</td>\n",
              "      <td>33.421</td>\n",
              "    </tr>\n",
              "  </tbody>\n",
              "</table>\n",
              "</div>"
            ],
            "text/plain": [
              "   Depthm  T_degC  Salnty\n",
              "0       0   10.50  33.440\n",
              "1       8   10.46  33.440\n",
              "2      10   10.46  33.437\n",
              "3      19   10.45  33.420\n",
              "4      20   10.45  33.421"
            ]
          },
          "metadata": {
            "tags": []
          },
          "execution_count": 42
        }
      ]
    },
    {
      "cell_type": "code",
      "metadata": {
        "id": "rskTyEemvyMU",
        "outputId": "c900e56e-8b5d-42e5-faa1-efa68750e0e7",
        "colab": {
          "base_uri": "https://localhost:8080/",
          "height": 82
        }
      },
      "source": [
        "dataset.isnull().sum().sort_values()"
      ],
      "execution_count": null,
      "outputs": [
        {
          "output_type": "execute_result",
          "data": {
            "text/plain": [
              "Depthm        0\n",
              "T_degC    10963\n",
              "Salnty    47354\n",
              "dtype: int64"
            ]
          },
          "metadata": {
            "tags": []
          },
          "execution_count": 43
        }
      ]
    },
    {
      "cell_type": "markdown",
      "metadata": {
        "id": "LLkztQswwyoI"
      },
      "source": [
        "ganti nilai nan dengan nilai rata-rata"
      ]
    },
    {
      "cell_type": "code",
      "metadata": {
        "id": "VstdKk88wI3c"
      },
      "source": [
        "avg_T=dataset['T_degC'].mean(axis=0)\n",
        "dataset['T_degC'].replace(np.nan, avg_T, inplace=True)\n"
      ],
      "execution_count": null,
      "outputs": []
    },
    {
      "cell_type": "markdown",
      "metadata": {
        "id": "MMIMtR86xT0n"
      },
      "source": [
        "hapus nilai nan pada price "
      ]
    },
    {
      "cell_type": "code",
      "metadata": {
        "id": "9Y6TmR8Yw-7C",
        "outputId": "cd02a620-2173-461d-eff3-b4877f069c02",
        "colab": {
          "base_uri": "https://localhost:8080/",
          "height": 82
        }
      },
      "source": [
        "dataset.dropna(subset=[\"Salnty\"], axis=0, inplace=True)\n",
        "dataset.isnull().sum()"
      ],
      "execution_count": null,
      "outputs": [
        {
          "output_type": "execute_result",
          "data": {
            "text/plain": [
              "Depthm    0\n",
              "T_degC    0\n",
              "Salnty    0\n",
              "dtype: int64"
            ]
          },
          "metadata": {
            "tags": []
          },
          "execution_count": 45
        }
      ]
    },
    {
      "cell_type": "code",
      "metadata": {
        "id": "K5h4YNeuxeUe",
        "outputId": "3ecbb5bb-68f4-472d-898f-9ba24ffcebee",
        "colab": {
          "base_uri": "https://localhost:8080/",
          "height": 82
        }
      },
      "source": [
        "dataset.dtypes"
      ],
      "execution_count": null,
      "outputs": [
        {
          "output_type": "execute_result",
          "data": {
            "text/plain": [
              "Depthm      int64\n",
              "T_degC    float64\n",
              "Salnty    float64\n",
              "dtype: object"
            ]
          },
          "metadata": {
            "tags": []
          },
          "execution_count": 46
        }
      ]
    },
    {
      "cell_type": "code",
      "metadata": {
        "id": "uJ6Ezp153sNA",
        "outputId": "5577ce70-eed1-4f1c-fa8c-eef2f5892ecb",
        "colab": {
          "base_uri": "https://localhost:8080/",
          "height": 133
        }
      },
      "source": [
        "corr = dataset.corr()\n",
        "\n",
        "corr"
      ],
      "execution_count": null,
      "outputs": [
        {
          "output_type": "execute_result",
          "data": {
            "text/html": [
              "<div>\n",
              "<style scoped>\n",
              "    .dataframe tbody tr th:only-of-type {\n",
              "        vertical-align: middle;\n",
              "    }\n",
              "\n",
              "    .dataframe tbody tr th {\n",
              "        vertical-align: top;\n",
              "    }\n",
              "\n",
              "    .dataframe thead th {\n",
              "        text-align: right;\n",
              "    }\n",
              "</style>\n",
              "<table border=\"1\" class=\"dataframe\">\n",
              "  <thead>\n",
              "    <tr style=\"text-align: right;\">\n",
              "      <th></th>\n",
              "      <th>Depthm</th>\n",
              "      <th>T_degC</th>\n",
              "      <th>Salnty</th>\n",
              "    </tr>\n",
              "  </thead>\n",
              "  <tbody>\n",
              "    <tr>\n",
              "      <th>Depthm</th>\n",
              "      <td>1.000000</td>\n",
              "      <td>-0.675604</td>\n",
              "      <td>0.57263</td>\n",
              "    </tr>\n",
              "    <tr>\n",
              "      <th>T_degC</th>\n",
              "      <td>-0.675604</td>\n",
              "      <td>1.000000</td>\n",
              "      <td>-0.50400</td>\n",
              "    </tr>\n",
              "    <tr>\n",
              "      <th>Salnty</th>\n",
              "      <td>0.572630</td>\n",
              "      <td>-0.504000</td>\n",
              "      <td>1.00000</td>\n",
              "    </tr>\n",
              "  </tbody>\n",
              "</table>\n",
              "</div>"
            ],
            "text/plain": [
              "          Depthm    T_degC   Salnty\n",
              "Depthm  1.000000 -0.675604  0.57263\n",
              "T_degC -0.675604  1.000000 -0.50400\n",
              "Salnty  0.572630 -0.504000  1.00000"
            ]
          },
          "metadata": {
            "tags": []
          },
          "execution_count": 47
        }
      ]
    },
    {
      "cell_type": "code",
      "metadata": {
        "id": "Vd6ePL4Yx3OG",
        "outputId": "96c8ee3b-b368-45f6-cbe4-cb3cd5b809d5",
        "colab": {
          "base_uri": "https://localhost:8080/",
          "height": 66
        }
      },
      "source": [
        "dataset.corr()['Salnty'][:-1]"
      ],
      "execution_count": null,
      "outputs": [
        {
          "output_type": "execute_result",
          "data": {
            "text/plain": [
              "Depthm    0.57263\n",
              "T_degC   -0.50400\n",
              "Name: Salnty, dtype: float64"
            ]
          },
          "metadata": {
            "tags": []
          },
          "execution_count": 48
        }
      ]
    },
    {
      "cell_type": "code",
      "metadata": {
        "id": "oEmrD1cr3ng5",
        "outputId": "a587261e-75d1-451e-acb8-3af11d318955",
        "colab": {
          "base_uri": "https://localhost:8080/",
          "height": 1000
        }
      },
      "source": [
        "plt.figure(figsize=(20,20))\n",
        "sb.heatmap(corr, cbar=True, square= True, fmt='.1f', annot=True, annot_kws={'size':15}, cmap='Blues')"
      ],
      "execution_count": null,
      "outputs": [
        {
          "output_type": "execute_result",
          "data": {
            "text/plain": [
              "<matplotlib.axes._subplots.AxesSubplot at 0x7f1f1a6bbac8>"
            ]
          },
          "metadata": {
            "tags": []
          },
          "execution_count": 49
        },
        {
          "output_type": "display_data",
          "data": {
            "image/png": "[encoded data removed]",
            "text/plain": [
              "<Figure size 1440x1440 with 2 Axes>"
            ]
          },
          "metadata": {
            "tags": [],
            "needs_background": "light"
          }
        }
      ]
    },
    {
      "cell_type": "code",
      "metadata": {
        "id": "vRoo5GX0Ko92",
        "outputId": "8d27d0f7-a649-459d-dc25-a34be8ad5d56",
        "colab": {
          "base_uri": "https://localhost:8080/",
          "height": 391
        }
      },
      "source": [
        "dataset"
      ],
      "execution_count": null,
      "outputs": [
        {
          "output_type": "execute_result",
          "data": {
            "text/html": [
              "<div>\n",
              "<style scoped>\n",
              "    .dataframe tbody tr th:only-of-type {\n",
              "        vertical-align: middle;\n",
              "    }\n",
              "\n",
              "    .dataframe tbody tr th {\n",
              "        vertical-align: top;\n",
              "    }\n",
              "\n",
              "    .dataframe thead th {\n",
              "        text-align: right;\n",
              "    }\n",
              "</style>\n",
              "<table border=\"1\" class=\"dataframe\">\n",
              "  <thead>\n",
              "    <tr style=\"text-align: right;\">\n",
              "      <th></th>\n",
              "      <th>Depthm</th>\n",
              "      <th>T_degC</th>\n",
              "      <th>Salnty</th>\n",
              "    </tr>\n",
              "  </thead>\n",
              "  <tbody>\n",
              "    <tr>\n",
              "      <th>0</th>\n",
              "      <td>0</td>\n",
              "      <td>10.500</td>\n",
              "      <td>33.4400</td>\n",
              "    </tr>\n",
              "    <tr>\n",
              "      <th>1</th>\n",
              "      <td>8</td>\n",
              "      <td>10.460</td>\n",
              "      <td>33.4400</td>\n",
              "    </tr>\n",
              "    <tr>\n",
              "      <th>2</th>\n",
              "      <td>10</td>\n",
              "      <td>10.460</td>\n",
              "      <td>33.4370</td>\n",
              "    </tr>\n",
              "    <tr>\n",
              "      <th>3</th>\n",
              "      <td>19</td>\n",
              "      <td>10.450</td>\n",
              "      <td>33.4200</td>\n",
              "    </tr>\n",
              "    <tr>\n",
              "      <th>4</th>\n",
              "      <td>20</td>\n",
              "      <td>10.450</td>\n",
              "      <td>33.4210</td>\n",
              "    </tr>\n",
              "    <tr>\n",
              "      <th>...</th>\n",
              "      <td>...</td>\n",
              "      <td>...</td>\n",
              "      <td>...</td>\n",
              "    </tr>\n",
              "    <tr>\n",
              "      <th>864858</th>\n",
              "      <td>0</td>\n",
              "      <td>18.744</td>\n",
              "      <td>33.4083</td>\n",
              "    </tr>\n",
              "    <tr>\n",
              "      <th>864859</th>\n",
              "      <td>2</td>\n",
              "      <td>18.744</td>\n",
              "      <td>33.4083</td>\n",
              "    </tr>\n",
              "    <tr>\n",
              "      <th>864860</th>\n",
              "      <td>5</td>\n",
              "      <td>18.692</td>\n",
              "      <td>33.4150</td>\n",
              "    </tr>\n",
              "    <tr>\n",
              "      <th>864861</th>\n",
              "      <td>10</td>\n",
              "      <td>18.161</td>\n",
              "      <td>33.4062</td>\n",
              "    </tr>\n",
              "    <tr>\n",
              "      <th>864862</th>\n",
              "      <td>15</td>\n",
              "      <td>17.533</td>\n",
              "      <td>33.3880</td>\n",
              "    </tr>\n",
              "  </tbody>\n",
              "</table>\n",
              "<p>817509 rows × 3 columns</p>\n",
              "</div>"
            ],
            "text/plain": [
              "        Depthm  T_degC   Salnty\n",
              "0            0  10.500  33.4400\n",
              "1            8  10.460  33.4400\n",
              "2           10  10.460  33.4370\n",
              "3           19  10.450  33.4200\n",
              "4           20  10.450  33.4210\n",
              "...        ...     ...      ...\n",
              "864858       0  18.744  33.4083\n",
              "864859       2  18.744  33.4083\n",
              "864860       5  18.692  33.4150\n",
              "864861      10  18.161  33.4062\n",
              "864862      15  17.533  33.3880\n",
              "\n",
              "[817509 rows x 3 columns]"
            ]
          },
          "metadata": {
            "tags": []
          },
          "execution_count": 50
        }
      ]
    },
    {
      "cell_type": "markdown",
      "metadata": {
        "id": "ryI7Lg7h4Utc"
      },
      "source": [
        "## Linear Regression"
      ]
    },
    {
      "cell_type": "markdown",
      "metadata": {
        "id": "QtdINMvP4YOt"
      },
      "source": [
        "### Feature Engineering"
      ]
    },
    {
      "cell_type": "code",
      "metadata": {
        "id": "D2cvZwxU4UKL"
      },
      "source": [
        "label = dataset['Salnty']\n",
        "features = dataset.drop(['Salnty'], axis=1)"
      ],
      "execution_count": null,
      "outputs": []
    },
    {
      "cell_type": "code",
      "metadata": {
        "id": "ivxW5Lny5QmX"
      },
      "source": [
        "from sklearn import preprocessing\n",
        "scaler = preprocessing.StandardScaler()\n",
        "\n",
        "features = scaler.fit_transform(features.values)\n",
        "label = scaler.fit_transform(label.values.reshape(-1,1)).flatten()"
      ],
      "execution_count": null,
      "outputs": []
    },
    {
      "cell_type": "code",
      "metadata": {
        "id": "eVZoQC3i4e1b"
      },
      "source": [
        "from sklearn.model_selection import train_test_split\n",
        "feature_train, feature_test, label_train, label_test = train_test_split(features, label, test_size=0.2, random_state=10)"
      ],
      "execution_count": null,
      "outputs": []
    },
    {
      "cell_type": "code",
      "metadata": {
        "id": "dtOFfE5y4jUs",
        "outputId": "479ea0a4-fcd4-4443-ec9b-414368703956",
        "colab": {
          "base_uri": "https://localhost:8080/",
          "height": 82
        }
      },
      "source": [
        "from sklearn.linear_model import LinearRegression\n",
        "\n",
        "lm = LinearRegression()\n",
        "lm.fit(feature_train, label_train)\n",
        "\n",
        "predictions = lm.predict(feature_test)\n",
        "\n",
        "from sklearn.metrics import mean_squared_error, mean_absolute_error, r2_score\n",
        "\n",
        "mse = mean_squared_error(label_test, predictions)\n",
        "mae = mean_absolute_error(label_test, predictions)\n",
        "r2 = r2_score(label_test, predictions)\n",
        "print(\"MSE (Mean Squared Error)\", mse)\n",
        "print(\"MAE (Mean Absolute Error)\", mae)\n",
        "print(\"r^2 score\", r2)\n",
        "print('RMSE (Root Mean Squared Error', np.sqrt(mean_squared_error(label_test, predictions)))"
      ],
      "execution_count": null,
      "outputs": [
        {
          "output_type": "stream",
          "text": [
            "MSE (Mean Squared Error) 0.6428438575672536\n",
            "MAE (Mean Absolute Error) 0.5598591960202743\n",
            "r^2 score 0.35537847778712184\n",
            "RMSE (Root Mean Squared Error 0.8017754408606275\n"
          ],
          "name": "stdout"
        }
      ]
    },
    {
      "cell_type": "markdown",
      "metadata": {
        "id": "71NOADCA4oSi"
      },
      "source": [
        "### Deep Learning"
      ]
    },
    {
      "cell_type": "code",
      "metadata": {
        "id": "u520t66w21i6"
      },
      "source": [
        "# Based on: https://machinelearningmastery.com/regression-tutorial-keras-deep-learning-library-python/\n",
        "from tensorflow.keras.models import Sequential\n",
        "from tensorflow.keras.layers import Dense\n",
        "\n",
        "model = Sequential()\n",
        "model.add(Dense(13, input_dim=2, kernel_initializer='normal', activation='relu')) # 13 neuron, sesuai dengan 13 features\n",
        "model.add(Dense(1, kernel_initializer='normal'))\n",
        "\n",
        "model.compile(loss='mean_squared_error', optimizer='adam')"
      ],
      "execution_count": null,
      "outputs": []
    },
    {
      "cell_type": "code",
      "metadata": {
        "id": "SvGU4xsO6C74",
        "outputId": "0f59deff-6b60-42d3-fd8b-722a6d79f604",
        "colab": {
          "base_uri": "https://localhost:8080/",
          "height": 1000
        }
      },
      "source": [
        "history_deep = model.fit(x=feature_train, y=label_train, validation_data=(feature_test, label_test), epochs=50, batch_size=8)"
      ],
      "execution_count": null,
      "outputs": [
        {
          "output_type": "stream",
          "text": [
            "Epoch 1/50\n",
            "81751/81751 [==============================] - 68s 831us/step - loss: 0.3569 - val_loss: 0.3201\n",
            "Epoch 2/50\n",
            "81751/81751 [==============================] - 74s 903us/step - loss: 0.3267 - val_loss: 0.3206\n",
            "Epoch 3/50\n",
            "81751/81751 [==============================] - 56s 689us/step - loss: 0.3266 - val_loss: 0.3190\n",
            "Epoch 4/50\n",
            "81751/81751 [==============================] - 57s 702us/step - loss: 0.3264 - val_loss: 0.3204\n",
            "Epoch 5/50\n",
            "81751/81751 [==============================] - 59s 720us/step - loss: 0.3264 - val_loss: 0.3236\n",
            "Epoch 6/50\n",
            "81751/81751 [==============================] - 66s 812us/step - loss: 0.3263 - val_loss: 0.3233\n",
            "Epoch 7/50\n",
            "81751/81751 [==============================] - 63s 776us/step - loss: 0.3263 - val_loss: 0.3230\n",
            "Epoch 8/50\n",
            "81751/81751 [==============================] - 80s 981us/step - loss: 0.3262 - val_loss: 0.3196\n",
            "Epoch 9/50\n",
            "81751/81751 [==============================] - 80s 984us/step - loss: 0.3208 - val_loss: 0.3133\n",
            "Epoch 10/50\n",
            "81751/81751 [==============================] - 68s 826us/step - loss: 0.3134 - val_loss: 0.3087\n",
            "Epoch 11/50\n",
            "81751/81751 [==============================] - 81s 995us/step - loss: 0.3128 - val_loss: 0.3067\n",
            "Epoch 12/50\n",
            "81751/81751 [==============================] - 65s 798us/step - loss: 0.3127 - val_loss: 0.3077\n",
            "Epoch 13/50\n",
            "81751/81751 [==============================] - 67s 816us/step - loss: 0.3125 - val_loss: 0.3057\n",
            "Epoch 14/50\n",
            "81751/81751 [==============================] - 66s 808us/step - loss: 0.3122 - val_loss: 0.3057\n",
            "Epoch 15/50\n",
            "81751/81751 [==============================] - 64s 788us/step - loss: 0.3110 - val_loss: 0.3082\n",
            "Epoch 16/50\n",
            "81751/81751 [==============================] - 59s 718us/step - loss: 0.3104 - val_loss: 0.3145\n",
            "Epoch 17/50\n",
            "81751/81751 [==============================] - 62s 760us/step - loss: 0.3100 - val_loss: 0.3041\n",
            "Epoch 18/50\n",
            "81751/81751 [==============================] - 57s 701us/step - loss: 0.3098 - val_loss: 0.3083\n",
            "Epoch 19/50\n",
            "81751/81751 [==============================] - 57s 699us/step - loss: 0.3096 - val_loss: 0.3164\n",
            "Epoch 20/50\n",
            "81751/81751 [==============================] - 62s 759us/step - loss: 0.3096 - val_loss: 0.3039\n",
            "Epoch 21/50\n",
            "81751/81751 [==============================] - 68s 833us/step - loss: 0.3096 - val_loss: 0.3027\n",
            "Epoch 22/50\n",
            "81751/81751 [==============================] - 60s 732us/step - loss: 0.3096 - val_loss: 0.3052\n",
            "Epoch 23/50\n",
            "81751/81751 [==============================] - 58s 713us/step - loss: 0.3096 - val_loss: 0.3097\n",
            "Epoch 24/50\n",
            "81751/81751 [==============================] - 62s 753us/step - loss: 0.3095 - val_loss: 0.3031\n",
            "Epoch 25/50\n",
            "81751/81751 [==============================] - 62s 758us/step - loss: 0.3097 - val_loss: 0.3030\n",
            "Epoch 26/50\n",
            "81751/81751 [==============================] - 61s 747us/step - loss: 0.3094 - val_loss: 0.3037\n",
            "Epoch 27/50\n",
            "81751/81751 [==============================] - 71s 871us/step - loss: 0.3095 - val_loss: 0.3030\n",
            "Epoch 28/50\n",
            "81751/81751 [==============================] - 87s 1ms/step - loss: 0.3095 - val_loss: 0.3026\n",
            "Epoch 29/50\n",
            "81751/81751 [==============================] - 71s 872us/step - loss: 0.3094 - val_loss: 0.3087\n",
            "Epoch 30/50\n",
            "81751/81751 [==============================] - 68s 831us/step - loss: 0.3095 - val_loss: 0.3023\n",
            "Epoch 31/50\n",
            "81751/81751 [==============================] - 55s 676us/step - loss: 0.3094 - val_loss: 0.3055\n",
            "Epoch 32/50\n",
            "81751/81751 [==============================] - 58s 705us/step - loss: 0.3090 - val_loss: 0.3028\n",
            "Epoch 33/50\n",
            "81751/81751 [==============================] - 59s 720us/step - loss: 0.3089 - val_loss: 0.3021\n",
            "Epoch 34/50\n",
            "81751/81751 [==============================] - 55s 667us/step - loss: 0.3089 - val_loss: 0.3019\n",
            "Epoch 35/50\n",
            "81751/81751 [==============================] - 57s 699us/step - loss: 0.3089 - val_loss: 0.3024\n",
            "Epoch 36/50\n",
            "81751/81751 [==============================] - 64s 779us/step - loss: 0.3089 - val_loss: 0.3021\n",
            "Epoch 37/50\n",
            "81751/81751 [==============================] - 62s 761us/step - loss: 0.3087 - val_loss: 0.3032\n",
            "Epoch 38/50\n",
            "81751/81751 [==============================] - 64s 778us/step - loss: 0.3087 - val_loss: 0.3025\n",
            "Epoch 39/50\n",
            "81751/81751 [==============================] - 59s 720us/step - loss: 0.3087 - val_loss: 0.3048\n",
            "Epoch 40/50\n",
            "81751/81751 [==============================] - 57s 693us/step - loss: 0.3086 - val_loss: 0.3026\n",
            "Epoch 41/50\n",
            "81751/81751 [==============================] - 57s 696us/step - loss: 0.3086 - val_loss: 0.3052\n",
            "Epoch 42/50\n",
            "81751/81751 [==============================] - 56s 680us/step - loss: 0.3086 - val_loss: 0.3054\n",
            "Epoch 43/50\n",
            "81751/81751 [==============================] - 57s 692us/step - loss: 0.3086 - val_loss: 0.3035\n",
            "Epoch 44/50\n",
            "81751/81751 [==============================] - 55s 668us/step - loss: 0.3086 - val_loss: 0.3049\n",
            "Epoch 45/50\n",
            "81751/81751 [==============================] - 72s 883us/step - loss: 0.3086 - val_loss: 0.3021\n",
            "Epoch 46/50\n",
            "81751/81751 [==============================] - 63s 774us/step - loss: 0.3085 - val_loss: 0.3089\n",
            "Epoch 47/50\n",
            "81751/81751 [==============================] - 57s 703us/step - loss: 0.3086 - val_loss: 0.3042\n",
            "Epoch 48/50\n",
            "81751/81751 [==============================] - 56s 688us/step - loss: 0.3086 - val_loss: 0.3069\n",
            "Epoch 49/50\n",
            "81751/81751 [==============================] - 54s 659us/step - loss: 0.3086 - val_loss: 0.3020\n",
            "Epoch 50/50\n",
            "81751/81751 [==============================] - 54s 659us/step - loss: 0.3085 - val_loss: 0.3041\n"
          ],
          "name": "stdout"
        }
      ]
    },
    {
      "cell_type": "code",
      "metadata": {
        "id": "WeJGsG9a6oca"
      },
      "source": [
        "predictions = model.predict(feature_test)\n",
        "\n",
        "predictions = predictions.flatten()"
      ],
      "execution_count": null,
      "outputs": []
    },
    {
      "cell_type": "code",
      "metadata": {
        "id": "6RIqgTJK8EkK",
        "outputId": "45801e49-9697-439e-8966-667ba1d2a3f2",
        "colab": {
          "base_uri": "https://localhost:8080/",
          "height": 82
        }
      },
      "source": [
        "from sklearn.metrics import mean_squared_error, mean_absolute_error, r2_score\n",
        "\n",
        "mse = mean_squared_error(label_test, predictions)\n",
        "mae = mean_absolute_error(label_test, predictions)\n",
        "r2 = r2_score(label_test, predictions)\n",
        "print(\"MSE (Mean Squared Error)\", mse)\n",
        "print(\"MAE (Mean Absolute Error)\", mae)\n",
        "print(\"r^2 score\", r2)\n",
        "print('RMSE (Root Mean Squared Error', np.sqrt(mean_squared_error(label_test, predictions)))"
      ],
      "execution_count": null,
      "outputs": [
        {
          "output_type": "stream",
          "text": [
            "MSE (Mean Squared Error) 0.3040531599206269\n",
            "MAE (Mean Absolute Error) 0.35551248461755247\n",
            "r^2 score 0.6951060378434666\n",
            "RMSE (Root Mean Squared Error 0.5514101558011304\n"
          ],
          "name": "stdout"
        }
      ]
    },
    {
      "cell_type": "markdown",
      "metadata": {
        "id": "eeLikvdE9MsO"
      },
      "source": [
        "## Deeper Model"
      ]
    },
    {
      "cell_type": "code",
      "metadata": {
        "id": "MEiteeaV8YOc",
        "outputId": "2d039909-3b21-4a5b-cb9d-c4c68d62dcde",
        "colab": {
          "base_uri": "https://localhost:8080/",
          "height": 927
        }
      },
      "source": [
        "deeper_model = Sequential()\n",
        "deeper_model.add(Dense(13, input_dim=2, kernel_initializer='normal', activation='relu'))\n",
        "deeper_model.add(Dense(6, kernel_initializer='normal', activation='relu'))\n",
        "deeper_model.add(Dense(1, kernel_initializer='normal'))\n",
        "\n",
        "deeper_model.compile(loss='mean_squared_error', optimizer='adam')\n",
        "\n",
        "history_deeper = deeper_model.fit(x=feature_train, y=label_train, validation_data=(feature_test, label_test), epochs=50, batch_size=8)"
      ],
      "execution_count": null,
      "outputs": [
        {
          "output_type": "stream",
          "text": [
            "Epoch 1/50\n",
            "81751/81751 [==============================] - 65s 795us/step - loss: 0.3183 - val_loss: 0.3006\n",
            "Epoch 2/50\n",
            "81751/81751 [==============================] - 77s 948us/step - loss: 0.3042 - val_loss: 0.3005\n",
            "Epoch 3/50\n",
            "81751/81751 [==============================] - 71s 863us/step - loss: 0.3027 - val_loss: 0.2956\n",
            "Epoch 4/50\n",
            "81751/81751 [==============================] - 70s 860us/step - loss: 0.3013 - val_loss: 0.2966\n",
            "Epoch 5/50\n",
            "81751/81751 [==============================] - 71s 872us/step - loss: 0.3001 - val_loss: 0.2945\n",
            "Epoch 6/50\n",
            "81751/81751 [==============================] - 64s 787us/step - loss: 0.2998 - val_loss: 0.3016\n",
            "Epoch 7/50\n",
            "81751/81751 [==============================] - 66s 807us/step - loss: 0.2994 - val_loss: 0.2962\n",
            "Epoch 8/50\n",
            "81751/81751 [==============================] - 68s 829us/step - loss: 0.2993 - val_loss: 0.2935\n",
            "Epoch 9/50\n",
            "81751/81751 [==============================] - 66s 803us/step - loss: 0.2992 - val_loss: 0.2941\n",
            "Epoch 10/50\n",
            "81751/81751 [==============================] - 66s 803us/step - loss: 0.2991 - val_loss: 0.2951\n",
            "Epoch 11/50\n",
            "81751/81751 [==============================] - 71s 870us/step - loss: 0.2990 - val_loss: 0.2936\n",
            "Epoch 12/50\n",
            "81751/81751 [==============================] - 71s 867us/step - loss: 0.2990 - val_loss: 0.2974\n",
            "Epoch 13/50\n",
            "81751/81751 [==============================] - 65s 801us/step - loss: 0.2990 - val_loss: 0.2961\n",
            "Epoch 14/50\n",
            "81751/81751 [==============================] - 64s 788us/step - loss: 0.2990 - val_loss: 0.2941\n",
            "Epoch 15/50\n",
            "81751/81751 [==============================] - 65s 790us/step - loss: 0.2988 - val_loss: 0.2948\n",
            "Epoch 16/50\n",
            "81751/81751 [==============================] - 65s 790us/step - loss: 0.2989 - val_loss: 0.2941\n",
            "Epoch 17/50\n",
            "81751/81751 [==============================] - 82s 1ms/step - loss: 0.2988 - val_loss: 0.2937\n",
            "Epoch 18/50\n",
            "81751/81751 [==============================] - 68s 837us/step - loss: 0.2987 - val_loss: 0.2937\n",
            "Epoch 19/50\n",
            "81751/81751 [==============================] - 67s 823us/step - loss: 0.2987 - val_loss: 0.2991\n",
            "Epoch 20/50\n",
            "81751/81751 [==============================] - 65s 790us/step - loss: 0.2987 - val_loss: 0.2957\n",
            "Epoch 21/50\n",
            "81751/81751 [==============================] - 63s 766us/step - loss: 0.2987 - val_loss: 0.2932\n",
            "Epoch 22/50\n",
            "81751/81751 [==============================] - 78s 953us/step - loss: 0.2987 - val_loss: 0.2937\n",
            "Epoch 23/50\n",
            "81751/81751 [==============================] - 79s 969us/step - loss: 0.2987 - val_loss: 0.2949\n",
            "Epoch 24/50\n",
            "81751/81751 [==============================] - 70s 860us/step - loss: 0.2986 - val_loss: 0.2939\n",
            "Epoch 25/50\n",
            "81751/81751 [==============================] - 71s 865us/step - loss: 0.2985 - val_loss: 0.2941\n",
            "Epoch 26/50\n",
            "81751/81751 [==============================] - 64s 787us/step - loss: 0.2986 - val_loss: 0.2948\n",
            "Epoch 27/50\n",
            "81751/81751 [==============================] - 63s 771us/step - loss: 0.2986 - val_loss: 0.2945\n",
            "Epoch 28/50\n",
            "81751/81751 [==============================] - 62s 759us/step - loss: 0.2986 - val_loss: 0.2938\n",
            "Epoch 29/50\n",
            "81751/81751 [==============================] - 61s 742us/step - loss: 0.2986 - val_loss: 0.2933\n",
            "Epoch 30/50\n",
            "81751/81751 [==============================] - 60s 739us/step - loss: 0.2985 - val_loss: 0.2937\n",
            "Epoch 31/50\n",
            "81751/81751 [==============================] - 65s 790us/step - loss: 0.2985 - val_loss: 0.2945\n",
            "Epoch 32/50\n",
            "81751/81751 [==============================] - 70s 854us/step - loss: 0.2984 - val_loss: 0.2937\n",
            "Epoch 33/50\n",
            "81751/81751 [==============================] - 81s 996us/step - loss: 0.2985 - val_loss: 0.2936\n",
            "Epoch 34/50\n",
            "81751/81751 [==============================] - 69s 846us/step - loss: 0.2985 - val_loss: 0.2934\n",
            "Epoch 35/50\n",
            "81751/81751 [==============================] - 70s 861us/step - loss: 0.2984 - val_loss: 0.2934\n",
            "Epoch 36/50\n",
            "81751/81751 [==============================] - 61s 740us/step - loss: 0.2985 - val_loss: 0.2947\n",
            "Epoch 37/50\n",
            "81751/81751 [==============================] - 61s 748us/step - loss: 0.2984 - val_loss: 0.2965\n",
            "Epoch 38/50\n",
            "81751/81751 [==============================] - 62s 753us/step - loss: 0.2985 - val_loss: 0.2932\n",
            "Epoch 39/50\n",
            "81751/81751 [==============================] - 60s 732us/step - loss: 0.2984 - val_loss: 0.2927\n",
            "Epoch 40/50\n",
            "81751/81751 [==============================] - 62s 754us/step - loss: 0.2984 - val_loss: 0.2961\n",
            "Epoch 41/50\n",
            "81751/81751 [==============================] - 64s 781us/step - loss: 0.2984 - val_loss: 0.2929\n",
            "Epoch 42/50\n",
            "81751/81751 [==============================] - 67s 814us/step - loss: 0.2983 - val_loss: 0.2940\n",
            "Epoch 43/50\n",
            "81751/81751 [==============================] - 63s 768us/step - loss: 0.2983 - val_loss: 0.2932\n",
            "Epoch 44/50\n",
            "81751/81751 [==============================] - 61s 742us/step - loss: 0.2984 - val_loss: 0.2948\n",
            "Epoch 45/50\n",
            "81751/81751 [==============================] - 61s 750us/step - loss: 0.2983 - val_loss: 0.2936\n",
            "Epoch 46/50\n",
            "81751/81751 [==============================] - 61s 745us/step - loss: 0.2983 - val_loss: 0.2947\n",
            "Epoch 47/50\n",
            "81751/81751 [==============================] - 61s 747us/step - loss: 0.2982 - val_loss: 0.2933\n",
            "Epoch 48/50\n",
            "81751/81751 [==============================] - 62s 753us/step - loss: 0.2982 - val_loss: 0.2933\n",
            "Epoch 49/50\n",
            "81751/81751 [==============================] - 67s 818us/step - loss: 0.2983 - val_loss: 0.2987\n",
            "Epoch 50/50\n",
            "81751/81751 [==============================] - 66s 808us/step - loss: 0.2983 - val_loss: 0.2936\n"
          ],
          "name": "stdout"
        }
      ]
    },
    {
      "cell_type": "code",
      "metadata": {
        "id": "lyJeIf8s8yL2"
      },
      "source": [
        "predictions = deeper_model.predict(feature_test)\n",
        "\n",
        "predictions = predictions.flatten()"
      ],
      "execution_count": null,
      "outputs": []
    },
    {
      "cell_type": "code",
      "metadata": {
        "id": "gP7CrS1n81Ue",
        "outputId": "9d624677-7a71-4ea1-8431-f30ec84d1638",
        "colab": {
          "base_uri": "https://localhost:8080/"
        }
      },
      "source": [
        "from sklearn.metrics import mean_squared_error, mean_absolute_error, r2_score\n",
        "\n",
        "mse = mean_squared_error(label_test, predictions)\n",
        "mae = mean_absolute_error(label_test, predictions)\n",
        "r2 = r2_score(label_test, predictions)\n",
        "print(\"MSE (Mean Squared Error)\", mse)\n",
        "print(\"MAE (Mean Absolute Error)\", mae)\n",
        "print(\"r^2 score\", r2)\n",
        "print('RMSE (Root Mean Squared Error', np.sqrt(mean_squared_error(label_test, predictions)))"
      ],
      "execution_count": null,
      "outputs": [
        {
          "output_type": "stream",
          "text": [
            "MSE (Mean Squared Error) 0.2936415761694785\n",
            "MAE (Mean Absolute Error) 0.3477645853601745\n",
            "r^2 score 0.705546412885255\n",
            "RMSE (Root Mean Squared Error 0.5418870511181075\n"
          ],
          "name": "stdout"
        }
      ]
    },
    {
      "cell_type": "markdown",
      "metadata": {
        "id": "WAtLbRex9T7M"
      },
      "source": [
        "### Wider model"
      ]
    },
    {
      "cell_type": "code",
      "metadata": {
        "id": "VZrrMdLG9TZ3",
        "outputId": "55032a0e-03f8-42d2-f6d7-b00316c88149",
        "colab": {
          "base_uri": "https://localhost:8080/",
          "height": 1000
        }
      },
      "source": [
        "wider_model = Sequential()\n",
        "wider_model.add(Dense(20, input_dim=2, kernel_initializer='normal', activation='relu'))\n",
        "wider_model.add(Dense(1, kernel_initializer='normal'))\n",
        "\n",
        "wider_model.compile(loss='mean_squared_error', optimizer='adam')\n",
        "\n",
        "history_wider = wider_model.fit(x=feature_train, y=label_train, validation_data=(feature_test, label_test), epochs=100, batch_size=64)"
      ],
      "execution_count": null,
      "outputs": [
        {
          "output_type": "stream",
          "text": [
            "Epoch 1/100\n",
            "10219/10219 [==============================] - 8s 753us/step - loss: 0.3657 - val_loss: 0.3239\n",
            "Epoch 2/100\n",
            "10219/10219 [==============================] - 8s 766us/step - loss: 0.3264 - val_loss: 0.3236\n",
            "Epoch 3/100\n",
            "10219/10219 [==============================] - 7s 726us/step - loss: 0.3200 - val_loss: 0.3101\n",
            "Epoch 4/100\n",
            "10219/10219 [==============================] - 7s 719us/step - loss: 0.3135 - val_loss: 0.3081\n",
            "Epoch 5/100\n",
            "10219/10219 [==============================] - 9s 834us/step - loss: 0.3107 - val_loss: 0.3053\n",
            "Epoch 6/100\n",
            "10219/10219 [==============================] - 9s 892us/step - loss: 0.3097 - val_loss: 0.3065\n",
            "Epoch 7/100\n",
            "10219/10219 [==============================] - 10s 949us/step - loss: 0.3091 - val_loss: 0.3049\n",
            "Epoch 8/100\n",
            "10219/10219 [==============================] - 8s 748us/step - loss: 0.3089 - val_loss: 0.3044\n",
            "Epoch 9/100\n",
            "10219/10219 [==============================] - 7s 723us/step - loss: 0.3088 - val_loss: 0.3040\n",
            "Epoch 10/100\n",
            "10219/10219 [==============================] - 7s 715us/step - loss: 0.3087 - val_loss: 0.3059\n",
            "Epoch 11/100\n",
            "10219/10219 [==============================] - 7s 696us/step - loss: 0.3086 - val_loss: 0.3047\n",
            "Epoch 12/100\n",
            "10219/10219 [==============================] - 8s 741us/step - loss: 0.3070 - val_loss: 0.3031\n",
            "Epoch 13/100\n",
            "10219/10219 [==============================] - 8s 748us/step - loss: 0.3055 - val_loss: 0.3025\n",
            "Epoch 14/100\n",
            "10219/10219 [==============================] - 8s 765us/step - loss: 0.3051 - val_loss: 0.3009\n",
            "Epoch 15/100\n",
            "10219/10219 [==============================] - 8s 756us/step - loss: 0.3043 - val_loss: 0.2994\n",
            "Epoch 16/100\n",
            "10219/10219 [==============================] - 8s 764us/step - loss: 0.3030 - val_loss: 0.2993\n",
            "Epoch 17/100\n",
            "10219/10219 [==============================] - 8s 778us/step - loss: 0.3024 - val_loss: 0.2985\n",
            "Epoch 18/100\n",
            "10219/10219 [==============================] - 8s 772us/step - loss: 0.3021 - val_loss: 0.2986\n",
            "Epoch 19/100\n",
            "10219/10219 [==============================] - 8s 815us/step - loss: 0.3019 - val_loss: 0.2981\n",
            "Epoch 20/100\n",
            "10219/10219 [==============================] - 8s 800us/step - loss: 0.3016 - val_loss: 0.2975\n",
            "Epoch 21/100\n",
            "10219/10219 [==============================] - 9s 837us/step - loss: 0.3015 - val_loss: 0.2973\n",
            "Epoch 22/100\n",
            "10219/10219 [==============================] - 10s 947us/step - loss: 0.3014 - val_loss: 0.2980\n",
            "Epoch 23/100\n",
            "10219/10219 [==============================] - 10s 942us/step - loss: 0.3012 - val_loss: 0.2968\n",
            "Epoch 24/100\n",
            "10219/10219 [==============================] - 9s 877us/step - loss: 0.3012 - val_loss: 0.2968\n",
            "Epoch 25/100\n",
            "10219/10219 [==============================] - 9s 852us/step - loss: 0.3011 - val_loss: 0.2989\n",
            "Epoch 26/100\n",
            "10219/10219 [==============================] - 8s 789us/step - loss: 0.3010 - val_loss: 0.2970\n",
            "Epoch 27/100\n",
            "10219/10219 [==============================] - 8s 755us/step - loss: 0.3010 - val_loss: 0.2968\n",
            "Epoch 28/100\n",
            "10219/10219 [==============================] - 8s 782us/step - loss: 0.3009 - val_loss: 0.2964\n",
            "Epoch 29/100\n",
            "10219/10219 [==============================] - 8s 768us/step - loss: 0.3009 - val_loss: 0.2964\n",
            "Epoch 30/100\n",
            "10219/10219 [==============================] - 8s 763us/step - loss: 0.3008 - val_loss: 0.2966\n",
            "Epoch 31/100\n",
            "10219/10219 [==============================] - 8s 760us/step - loss: 0.3006 - val_loss: 0.2959\n",
            "Epoch 32/100\n",
            "10219/10219 [==============================] - 8s 755us/step - loss: 0.3001 - val_loss: 0.2959\n",
            "Epoch 33/100\n",
            "10219/10219 [==============================] - 8s 734us/step - loss: 0.2997 - val_loss: 0.2959\n",
            "Epoch 34/100\n",
            "10219/10219 [==============================] - 8s 739us/step - loss: 0.2994 - val_loss: 0.2952\n",
            "Epoch 35/100\n",
            "10219/10219 [==============================] - 10s 937us/step - loss: 0.2992 - val_loss: 0.2945\n",
            "Epoch 36/100\n",
            "10219/10219 [==============================] - 8s 788us/step - loss: 0.2989 - val_loss: 0.2943\n",
            "Epoch 37/100\n",
            "10219/10219 [==============================] - 8s 798us/step - loss: 0.2987 - val_loss: 0.2941\n",
            "Epoch 38/100\n",
            "10219/10219 [==============================] - 8s 778us/step - loss: 0.2985 - val_loss: 0.2939\n",
            "Epoch 39/100\n",
            "10219/10219 [==============================] - 8s 790us/step - loss: 0.2985 - val_loss: 0.2940\n",
            "Epoch 40/100\n",
            "10219/10219 [==============================] - 8s 765us/step - loss: 0.2984 - val_loss: 0.2945\n",
            "Epoch 41/100\n",
            "10219/10219 [==============================] - 8s 784us/step - loss: 0.2984 - val_loss: 0.2944\n",
            "Epoch 42/100\n",
            "10219/10219 [==============================] - 8s 758us/step - loss: 0.2983 - val_loss: 0.2939\n",
            "Epoch 43/100\n",
            "10219/10219 [==============================] - 7s 720us/step - loss: 0.2984 - val_loss: 0.2980\n",
            "Epoch 44/100\n",
            "10219/10219 [==============================] - 8s 817us/step - loss: 0.2983 - val_loss: 0.2997\n",
            "Epoch 45/100\n",
            "10219/10219 [==============================] - 9s 834us/step - loss: 0.2983 - val_loss: 0.2943\n",
            "Epoch 46/100\n",
            "10219/10219 [==============================] - 8s 736us/step - loss: 0.2983 - val_loss: 0.2959\n",
            "Epoch 47/100\n",
            "10219/10219 [==============================] - 7s 724us/step - loss: 0.2983 - val_loss: 0.2948\n",
            "Epoch 48/100\n",
            "10219/10219 [==============================] - 7s 730us/step - loss: 0.2983 - val_loss: 0.2939\n",
            "Epoch 49/100\n",
            "10219/10219 [==============================] - 7s 718us/step - loss: 0.2983 - val_loss: 0.2944\n",
            "Epoch 50/100\n",
            "10219/10219 [==============================] - 8s 738us/step - loss: 0.2982 - val_loss: 0.2945\n",
            "Epoch 51/100\n",
            "10219/10219 [==============================] - 7s 733us/step - loss: 0.2982 - val_loss: 0.2939\n",
            "Epoch 52/100\n",
            "10219/10219 [==============================] - 7s 733us/step - loss: 0.2982 - val_loss: 0.2952\n",
            "Epoch 53/100\n",
            "10219/10219 [==============================] - 8s 735us/step - loss: 0.2982 - val_loss: 0.2936\n",
            "Epoch 54/100\n",
            "10219/10219 [==============================] - 7s 719us/step - loss: 0.2982 - val_loss: 0.2943\n",
            "Epoch 55/100\n",
            "10219/10219 [==============================] - 8s 787us/step - loss: 0.2982 - val_loss: 0.2959\n",
            "Epoch 56/100\n",
            "10219/10219 [==============================] - 8s 815us/step - loss: 0.2982 - val_loss: 0.2936\n",
            "Epoch 57/100\n",
            "10219/10219 [==============================] - 8s 759us/step - loss: 0.2982 - val_loss: 0.2946\n",
            "Epoch 58/100\n",
            "10219/10219 [==============================] - 8s 740us/step - loss: 0.2981 - val_loss: 0.2941\n",
            "Epoch 59/100\n",
            "10219/10219 [==============================] - 7s 728us/step - loss: 0.2982 - val_loss: 0.2935\n",
            "Epoch 60/100\n",
            "10219/10219 [==============================] - 7s 720us/step - loss: 0.2982 - val_loss: 0.2956\n",
            "Epoch 61/100\n",
            "10219/10219 [==============================] - 8s 762us/step - loss: 0.2982 - val_loss: 0.2943\n",
            "Epoch 62/100\n",
            "10219/10219 [==============================] - 7s 732us/step - loss: 0.2982 - val_loss: 0.2942\n",
            "Epoch 63/100\n",
            "10219/10219 [==============================] - 7s 733us/step - loss: 0.2982 - val_loss: 0.2939\n",
            "Epoch 64/100\n",
            "10219/10219 [==============================] - 7s 729us/step - loss: 0.2982 - val_loss: 0.2946\n",
            "Epoch 65/100\n",
            "10219/10219 [==============================] - 7s 733us/step - loss: 0.2981 - val_loss: 0.2942\n",
            "Epoch 66/100\n",
            "10219/10219 [==============================] - 7s 724us/step - loss: 0.2982 - val_loss: 0.2970\n",
            "Epoch 67/100\n",
            "10219/10219 [==============================] - 7s 714us/step - loss: 0.2981 - val_loss: 0.2938\n",
            "Epoch 68/100\n",
            "10219/10219 [==============================] - 7s 707us/step - loss: 0.2981 - val_loss: 0.2943\n",
            "Epoch 69/100\n",
            "10219/10219 [==============================] - 7s 723us/step - loss: 0.2980 - val_loss: 0.2948\n",
            "Epoch 70/100\n",
            "10219/10219 [==============================] - 7s 725us/step - loss: 0.2979 - val_loss: 0.2933\n",
            "Epoch 71/100\n",
            "10219/10219 [==============================] - 7s 716us/step - loss: 0.2979 - val_loss: 0.2931\n",
            "Epoch 72/100\n",
            "10219/10219 [==============================] - 7s 721us/step - loss: 0.2979 - val_loss: 0.2938\n",
            "Epoch 73/100\n",
            "10219/10219 [==============================] - 7s 721us/step - loss: 0.2979 - val_loss: 0.2932\n",
            "Epoch 74/100\n",
            "10219/10219 [==============================] - 8s 738us/step - loss: 0.2978 - val_loss: 0.2939\n",
            "Epoch 75/100\n",
            "10219/10219 [==============================] - 8s 802us/step - loss: 0.2979 - val_loss: 0.2935\n",
            "Epoch 76/100\n",
            "10219/10219 [==============================] - 8s 800us/step - loss: 0.2978 - val_loss: 0.2936\n",
            "Epoch 77/100\n",
            "10219/10219 [==============================] - 9s 853us/step - loss: 0.2979 - val_loss: 0.2936\n",
            "Epoch 78/100\n",
            "10219/10219 [==============================] - 9s 838us/step - loss: 0.2978 - val_loss: 0.2934\n",
            "Epoch 79/100\n",
            "10219/10219 [==============================] - 9s 852us/step - loss: 0.2978 - val_loss: 0.2935\n",
            "Epoch 80/100\n",
            "10219/10219 [==============================] - 9s 851us/step - loss: 0.2979 - val_loss: 0.2939\n",
            "Epoch 81/100\n",
            "10219/10219 [==============================] - 8s 737us/step - loss: 0.2978 - val_loss: 0.2943\n",
            "Epoch 82/100\n",
            "10219/10219 [==============================] - 8s 737us/step - loss: 0.2978 - val_loss: 0.2932\n",
            "Epoch 83/100\n",
            "10219/10219 [==============================] - 7s 713us/step - loss: 0.2978 - val_loss: 0.2958\n",
            "Epoch 84/100\n",
            "10219/10219 [==============================] - 7s 714us/step - loss: 0.2978 - val_loss: 0.2935\n",
            "Epoch 85/100\n",
            "10219/10219 [==============================] - 7s 725us/step - loss: 0.2978 - val_loss: 0.2948\n",
            "Epoch 86/100\n",
            "10219/10219 [==============================] - 8s 745us/step - loss: 0.2978 - val_loss: 0.2932\n",
            "Epoch 87/100\n",
            "10219/10219 [==============================] - 8s 738us/step - loss: 0.2978 - val_loss: 0.2943\n",
            "Epoch 88/100\n",
            "10219/10219 [==============================] - 7s 706us/step - loss: 0.2979 - val_loss: 0.2935\n",
            "Epoch 89/100\n",
            "10219/10219 [==============================] - 8s 757us/step - loss: 0.2978 - val_loss: 0.2938\n",
            "Epoch 90/100\n",
            "10219/10219 [==============================] - 8s 757us/step - loss: 0.2978 - val_loss: 0.2931\n",
            "Epoch 91/100\n",
            "10219/10219 [==============================] - 7s 727us/step - loss: 0.2978 - val_loss: 0.2934\n",
            "Epoch 92/100\n",
            "10219/10219 [==============================] - 8s 755us/step - loss: 0.2978 - val_loss: 0.2951\n",
            "Epoch 93/100\n",
            "10219/10219 [==============================] - 8s 739us/step - loss: 0.2978 - val_loss: 0.2933\n",
            "Epoch 94/100\n",
            "10219/10219 [==============================] - 8s 760us/step - loss: 0.2978 - val_loss: 0.2935\n",
            "Epoch 95/100\n",
            "10219/10219 [==============================] - 7s 722us/step - loss: 0.2978 - val_loss: 0.2931\n",
            "Epoch 96/100\n",
            "10219/10219 [==============================] - 8s 737us/step - loss: 0.2978 - val_loss: 0.2937\n",
            "Epoch 97/100\n",
            "10219/10219 [==============================] - 8s 814us/step - loss: 0.2978 - val_loss: 0.2959\n",
            "Epoch 98/100\n",
            "10219/10219 [==============================] - 9s 850us/step - loss: 0.2978 - val_loss: 0.2937\n",
            "Epoch 99/100\n",
            "10219/10219 [==============================] - 8s 780us/step - loss: 0.2978 - val_loss: 0.2936\n",
            "Epoch 100/100\n",
            "10219/10219 [==============================] - 8s 751us/step - loss: 0.2978 - val_loss: 0.2938\n"
          ],
          "name": "stdout"
        }
      ]
    },
    {
      "cell_type": "code",
      "metadata": {
        "id": "LSMU9ueG9gFY"
      },
      "source": [
        "predictions = wider_model.predict(feature_test)\n",
        "\n",
        "predictions = predictions.flatten()"
      ],
      "execution_count": null,
      "outputs": []
    },
    {
      "cell_type": "code",
      "metadata": {
        "id": "ckZvvz7h9jB_",
        "outputId": "3d30195b-97ca-41d3-a5ee-51c3929972ee",
        "colab": {
          "base_uri": "https://localhost:8080/",
          "height": 82
        }
      },
      "source": [
        "from sklearn.metrics import mean_squared_error, mean_absolute_error, r2_score\n",
        "\n",
        "mse = mean_squared_error(label_test, predictions)\n",
        "mae = mean_absolute_error(label_test, predictions)\n",
        "r2 = r2_score(label_test, predictions)\n",
        "print(\"MSE (Mean Squared Error)\", mse)\n",
        "print(\"MAE (Mean Absolute Error)\", mae)\n",
        "print(\"r^2 score\", r2)\n",
        "print('RMSE (Root Mean Squared Error', np.sqrt(mean_squared_error(label_test, predictions)))"
      ],
      "execution_count": null,
      "outputs": [
        {
          "output_type": "stream",
          "text": [
            "MSE (Mean Squared Error) 0.29375523665587555\n",
            "MAE (Mean Absolute Error) 0.3493249328894734\n",
            "r^2 score 0.7054324380920074\n",
            "RMSE (Root Mean Squared Error 0.5419919156739107\n"
          ],
          "name": "stdout"
        }
      ]
    },
    {
      "cell_type": "code",
      "metadata": {
        "id": "ovt4YX7h-Gq7"
      },
      "source": [
        "def plot_loss(history):\n",
        "  plt.plot(history.history['loss'], label='loss')\n",
        "  plt.plot(history.history['val_loss'], label='val_loss')\n",
        "  plt.xlabel('Epoch')\n",
        "  plt.ylabel('Loss (MSE)')\n",
        "  plt.legend()\n",
        "  plt.grid(True)"
      ],
      "execution_count": null,
      "outputs": []
    },
    {
      "cell_type": "code",
      "metadata": {
        "id": "EhnVfEv0-JAS",
        "outputId": "e364f750-93f1-4171-a3d5-e7276b465da5",
        "colab": {
          "base_uri": "https://localhost:8080/",
          "height": 391
        }
      },
      "source": [
        "history_dataframe = pd.DataFrame(history_wider.history)\n",
        "history_dataframe['epoch'] = history_wider.epoch\n",
        "history_dataframe"
      ],
      "execution_count": null,
      "outputs": [
        {
          "output_type": "execute_result",
          "data": {
            "text/html": [
              "<div>\n",
              "<style scoped>\n",
              "    .dataframe tbody tr th:only-of-type {\n",
              "        vertical-align: middle;\n",
              "    }\n",
              "\n",
              "    .dataframe tbody tr th {\n",
              "        vertical-align: top;\n",
              "    }\n",
              "\n",
              "    .dataframe thead th {\n",
              "        text-align: right;\n",
              "    }\n",
              "</style>\n",
              "<table border=\"1\" class=\"dataframe\">\n",
              "  <thead>\n",
              "    <tr style=\"text-align: right;\">\n",
              "      <th></th>\n",
              "      <th>loss</th>\n",
              "      <th>val_loss</th>\n",
              "      <th>epoch</th>\n",
              "    </tr>\n",
              "  </thead>\n",
              "  <tbody>\n",
              "    <tr>\n",
              "      <th>0</th>\n",
              "      <td>0.365666</td>\n",
              "      <td>0.323910</td>\n",
              "      <td>0</td>\n",
              "    </tr>\n",
              "    <tr>\n",
              "      <th>1</th>\n",
              "      <td>0.326360</td>\n",
              "      <td>0.323636</td>\n",
              "      <td>1</td>\n",
              "    </tr>\n",
              "    <tr>\n",
              "      <th>2</th>\n",
              "      <td>0.319954</td>\n",
              "      <td>0.310149</td>\n",
              "      <td>2</td>\n",
              "    </tr>\n",
              "    <tr>\n",
              "      <th>3</th>\n",
              "      <td>0.313480</td>\n",
              "      <td>0.308086</td>\n",
              "      <td>3</td>\n",
              "    </tr>\n",
              "    <tr>\n",
              "      <th>4</th>\n",
              "      <td>0.310692</td>\n",
              "      <td>0.305259</td>\n",
              "      <td>4</td>\n",
              "    </tr>\n",
              "    <tr>\n",
              "      <th>...</th>\n",
              "      <td>...</td>\n",
              "      <td>...</td>\n",
              "      <td>...</td>\n",
              "    </tr>\n",
              "    <tr>\n",
              "      <th>95</th>\n",
              "      <td>0.297843</td>\n",
              "      <td>0.293662</td>\n",
              "      <td>95</td>\n",
              "    </tr>\n",
              "    <tr>\n",
              "      <th>96</th>\n",
              "      <td>0.297779</td>\n",
              "      <td>0.295915</td>\n",
              "      <td>96</td>\n",
              "    </tr>\n",
              "    <tr>\n",
              "      <th>97</th>\n",
              "      <td>0.297835</td>\n",
              "      <td>0.293666</td>\n",
              "      <td>97</td>\n",
              "    </tr>\n",
              "    <tr>\n",
              "      <th>98</th>\n",
              "      <td>0.297754</td>\n",
              "      <td>0.293612</td>\n",
              "      <td>98</td>\n",
              "    </tr>\n",
              "    <tr>\n",
              "      <th>99</th>\n",
              "      <td>0.297757</td>\n",
              "      <td>0.293755</td>\n",
              "      <td>99</td>\n",
              "    </tr>\n",
              "  </tbody>\n",
              "</table>\n",
              "<p>100 rows × 3 columns</p>\n",
              "</div>"
            ],
            "text/plain": [
              "        loss  val_loss  epoch\n",
              "0   0.365666  0.323910      0\n",
              "1   0.326360  0.323636      1\n",
              "2   0.319954  0.310149      2\n",
              "3   0.313480  0.308086      3\n",
              "4   0.310692  0.305259      4\n",
              "..       ...       ...    ...\n",
              "95  0.297843  0.293662     95\n",
              "96  0.297779  0.295915     96\n",
              "97  0.297835  0.293666     97\n",
              "98  0.297754  0.293612     98\n",
              "99  0.297757  0.293755     99\n",
              "\n",
              "[100 rows x 3 columns]"
            ]
          },
          "metadata": {
            "tags": []
          },
          "execution_count": 63
        }
      ]
    },
    {
      "cell_type": "code",
      "metadata": {
        "id": "5R67GHJZ8ce2",
        "outputId": "924e2fe6-55cf-4b5b-b9e6-b0de806ff01b",
        "colab": {
          "base_uri": "https://localhost:8080/",
          "height": 391
        }
      },
      "source": [
        "history_dataframe.sort_values(by='val_loss', ascending=True)"
      ],
      "execution_count": null,
      "outputs": [
        {
          "output_type": "execute_result",
          "data": {
            "text/html": [
              "<div>\n",
              "<style scoped>\n",
              "    .dataframe tbody tr th:only-of-type {\n",
              "        vertical-align: middle;\n",
              "    }\n",
              "\n",
              "    .dataframe tbody tr th {\n",
              "        vertical-align: top;\n",
              "    }\n",
              "\n",
              "    .dataframe thead th {\n",
              "        text-align: right;\n",
              "    }\n",
              "</style>\n",
              "<table border=\"1\" class=\"dataframe\">\n",
              "  <thead>\n",
              "    <tr style=\"text-align: right;\">\n",
              "      <th></th>\n",
              "      <th>loss</th>\n",
              "      <th>val_loss</th>\n",
              "      <th>epoch</th>\n",
              "    </tr>\n",
              "  </thead>\n",
              "  <tbody>\n",
              "    <tr>\n",
              "      <th>70</th>\n",
              "      <td>0.297917</td>\n",
              "      <td>0.293062</td>\n",
              "      <td>70</td>\n",
              "    </tr>\n",
              "    <tr>\n",
              "      <th>89</th>\n",
              "      <td>0.297779</td>\n",
              "      <td>0.293078</td>\n",
              "      <td>89</td>\n",
              "    </tr>\n",
              "    <tr>\n",
              "      <th>94</th>\n",
              "      <td>0.297770</td>\n",
              "      <td>0.293096</td>\n",
              "      <td>94</td>\n",
              "    </tr>\n",
              "    <tr>\n",
              "      <th>81</th>\n",
              "      <td>0.297849</td>\n",
              "      <td>0.293187</td>\n",
              "      <td>81</td>\n",
              "    </tr>\n",
              "    <tr>\n",
              "      <th>72</th>\n",
              "      <td>0.297872</td>\n",
              "      <td>0.293209</td>\n",
              "      <td>72</td>\n",
              "    </tr>\n",
              "    <tr>\n",
              "      <th>...</th>\n",
              "      <td>...</td>\n",
              "      <td>...</td>\n",
              "      <td>...</td>\n",
              "    </tr>\n",
              "    <tr>\n",
              "      <th>5</th>\n",
              "      <td>0.309694</td>\n",
              "      <td>0.306520</td>\n",
              "      <td>5</td>\n",
              "    </tr>\n",
              "    <tr>\n",
              "      <th>3</th>\n",
              "      <td>0.313480</td>\n",
              "      <td>0.308086</td>\n",
              "      <td>3</td>\n",
              "    </tr>\n",
              "    <tr>\n",
              "      <th>2</th>\n",
              "      <td>0.319954</td>\n",
              "      <td>0.310149</td>\n",
              "      <td>2</td>\n",
              "    </tr>\n",
              "    <tr>\n",
              "      <th>1</th>\n",
              "      <td>0.326360</td>\n",
              "      <td>0.323636</td>\n",
              "      <td>1</td>\n",
              "    </tr>\n",
              "    <tr>\n",
              "      <th>0</th>\n",
              "      <td>0.365666</td>\n",
              "      <td>0.323910</td>\n",
              "      <td>0</td>\n",
              "    </tr>\n",
              "  </tbody>\n",
              "</table>\n",
              "<p>100 rows × 3 columns</p>\n",
              "</div>"
            ],
            "text/plain": [
              "        loss  val_loss  epoch\n",
              "70  0.297917  0.293062     70\n",
              "89  0.297779  0.293078     89\n",
              "94  0.297770  0.293096     94\n",
              "81  0.297849  0.293187     81\n",
              "72  0.297872  0.293209     72\n",
              "..       ...       ...    ...\n",
              "5   0.309694  0.306520      5\n",
              "3   0.313480  0.308086      3\n",
              "2   0.319954  0.310149      2\n",
              "1   0.326360  0.323636      1\n",
              "0   0.365666  0.323910      0\n",
              "\n",
              "[100 rows x 3 columns]"
            ]
          },
          "metadata": {
            "tags": []
          },
          "execution_count": 64
        }
      ]
    },
    {
      "cell_type": "code",
      "metadata": {
        "id": "CMAAFH2nLujX",
        "outputId": "7a607920-10c1-42ef-c744-369a02ad04c7",
        "colab": {
          "base_uri": "https://localhost:8080/",
          "height": 278
        }
      },
      "source": [
        "plot_loss(history_wider)"
      ],
      "execution_count": null,
      "outputs": [
        {
          "output_type": "display_data",
          "data": {
            "image/png": "[encoded data removed]",
            "text/plain": [
              "<Figure size 432x288 with 1 Axes>"
            ]
          },
          "metadata": {
            "tags": [],
            "needs_background": "light"
          }
        }
      ]
    },
    {
      "cell_type": "code",
      "metadata": {
        "id": "7BKTU7cxW3Nc",
        "outputId": "71036583-415b-47f3-fdc6-e8ff7dc0ca0c",
        "colab": {
          "base_uri": "https://localhost:8080/",
          "height": 1000
        }
      },
      "source": [
        "history_dataframe = pd.DataFrame(history_deep.history)\n",
        "history_dataframe['epoch'] = history_deep.epoch\n",
        "history_dataframe"
      ],
      "execution_count": null,
      "outputs": [
        {
          "output_type": "execute_result",
          "data": {
            "text/html": [
              "<div>\n",
              "<style scoped>\n",
              "    .dataframe tbody tr th:only-of-type {\n",
              "        vertical-align: middle;\n",
              "    }\n",
              "\n",
              "    .dataframe tbody tr th {\n",
              "        vertical-align: top;\n",
              "    }\n",
              "\n",
              "    .dataframe thead th {\n",
              "        text-align: right;\n",
              "    }\n",
              "</style>\n",
              "<table border=\"1\" class=\"dataframe\">\n",
              "  <thead>\n",
              "    <tr style=\"text-align: right;\">\n",
              "      <th></th>\n",
              "      <th>loss</th>\n",
              "      <th>val_loss</th>\n",
              "      <th>epoch</th>\n",
              "    </tr>\n",
              "  </thead>\n",
              "  <tbody>\n",
              "    <tr>\n",
              "      <th>0</th>\n",
              "      <td>0.356909</td>\n",
              "      <td>0.320117</td>\n",
              "      <td>0</td>\n",
              "    </tr>\n",
              "    <tr>\n",
              "      <th>1</th>\n",
              "      <td>0.326700</td>\n",
              "      <td>0.320610</td>\n",
              "      <td>1</td>\n",
              "    </tr>\n",
              "    <tr>\n",
              "      <th>2</th>\n",
              "      <td>0.326566</td>\n",
              "      <td>0.319040</td>\n",
              "      <td>2</td>\n",
              "    </tr>\n",
              "    <tr>\n",
              "      <th>3</th>\n",
              "      <td>0.326371</td>\n",
              "      <td>0.320442</td>\n",
              "      <td>3</td>\n",
              "    </tr>\n",
              "    <tr>\n",
              "      <th>4</th>\n",
              "      <td>0.326400</td>\n",
              "      <td>0.323567</td>\n",
              "      <td>4</td>\n",
              "    </tr>\n",
              "    <tr>\n",
              "      <th>5</th>\n",
              "      <td>0.326280</td>\n",
              "      <td>0.323308</td>\n",
              "      <td>5</td>\n",
              "    </tr>\n",
              "    <tr>\n",
              "      <th>6</th>\n",
              "      <td>0.326346</td>\n",
              "      <td>0.323049</td>\n",
              "      <td>6</td>\n",
              "    </tr>\n",
              "    <tr>\n",
              "      <th>7</th>\n",
              "      <td>0.326235</td>\n",
              "      <td>0.319623</td>\n",
              "      <td>7</td>\n",
              "    </tr>\n",
              "    <tr>\n",
              "      <th>8</th>\n",
              "      <td>0.320765</td>\n",
              "      <td>0.313316</td>\n",
              "      <td>8</td>\n",
              "    </tr>\n",
              "    <tr>\n",
              "      <th>9</th>\n",
              "      <td>0.313435</td>\n",
              "      <td>0.308665</td>\n",
              "      <td>9</td>\n",
              "    </tr>\n",
              "    <tr>\n",
              "      <th>10</th>\n",
              "      <td>0.312850</td>\n",
              "      <td>0.306705</td>\n",
              "      <td>10</td>\n",
              "    </tr>\n",
              "    <tr>\n",
              "      <th>11</th>\n",
              "      <td>0.312736</td>\n",
              "      <td>0.307673</td>\n",
              "      <td>11</td>\n",
              "    </tr>\n",
              "    <tr>\n",
              "      <th>12</th>\n",
              "      <td>0.312546</td>\n",
              "      <td>0.305694</td>\n",
              "      <td>12</td>\n",
              "    </tr>\n",
              "    <tr>\n",
              "      <th>13</th>\n",
              "      <td>0.312249</td>\n",
              "      <td>0.305662</td>\n",
              "      <td>13</td>\n",
              "    </tr>\n",
              "    <tr>\n",
              "      <th>14</th>\n",
              "      <td>0.310989</td>\n",
              "      <td>0.308167</td>\n",
              "      <td>14</td>\n",
              "    </tr>\n",
              "    <tr>\n",
              "      <th>15</th>\n",
              "      <td>0.310368</td>\n",
              "      <td>0.314470</td>\n",
              "      <td>15</td>\n",
              "    </tr>\n",
              "    <tr>\n",
              "      <th>16</th>\n",
              "      <td>0.309985</td>\n",
              "      <td>0.304094</td>\n",
              "      <td>16</td>\n",
              "    </tr>\n",
              "    <tr>\n",
              "      <th>17</th>\n",
              "      <td>0.309755</td>\n",
              "      <td>0.308318</td>\n",
              "      <td>17</td>\n",
              "    </tr>\n",
              "    <tr>\n",
              "      <th>18</th>\n",
              "      <td>0.309610</td>\n",
              "      <td>0.316354</td>\n",
              "      <td>18</td>\n",
              "    </tr>\n",
              "    <tr>\n",
              "      <th>19</th>\n",
              "      <td>0.309596</td>\n",
              "      <td>0.303904</td>\n",
              "      <td>19</td>\n",
              "    </tr>\n",
              "    <tr>\n",
              "      <th>20</th>\n",
              "      <td>0.309644</td>\n",
              "      <td>0.302728</td>\n",
              "      <td>20</td>\n",
              "    </tr>\n",
              "    <tr>\n",
              "      <th>21</th>\n",
              "      <td>0.309615</td>\n",
              "      <td>0.305208</td>\n",
              "      <td>21</td>\n",
              "    </tr>\n",
              "    <tr>\n",
              "      <th>22</th>\n",
              "      <td>0.309580</td>\n",
              "      <td>0.309666</td>\n",
              "      <td>22</td>\n",
              "    </tr>\n",
              "    <tr>\n",
              "      <th>23</th>\n",
              "      <td>0.309503</td>\n",
              "      <td>0.303136</td>\n",
              "      <td>23</td>\n",
              "    </tr>\n",
              "    <tr>\n",
              "      <th>24</th>\n",
              "      <td>0.309661</td>\n",
              "      <td>0.303022</td>\n",
              "      <td>24</td>\n",
              "    </tr>\n",
              "    <tr>\n",
              "      <th>25</th>\n",
              "      <td>0.309428</td>\n",
              "      <td>0.303667</td>\n",
              "      <td>25</td>\n",
              "    </tr>\n",
              "    <tr>\n",
              "      <th>26</th>\n",
              "      <td>0.309472</td>\n",
              "      <td>0.302976</td>\n",
              "      <td>26</td>\n",
              "    </tr>\n",
              "    <tr>\n",
              "      <th>27</th>\n",
              "      <td>0.309472</td>\n",
              "      <td>0.302643</td>\n",
              "      <td>27</td>\n",
              "    </tr>\n",
              "    <tr>\n",
              "      <th>28</th>\n",
              "      <td>0.309386</td>\n",
              "      <td>0.308715</td>\n",
              "      <td>28</td>\n",
              "    </tr>\n",
              "    <tr>\n",
              "      <th>29</th>\n",
              "      <td>0.309509</td>\n",
              "      <td>0.302332</td>\n",
              "      <td>29</td>\n",
              "    </tr>\n",
              "    <tr>\n",
              "      <th>30</th>\n",
              "      <td>0.309395</td>\n",
              "      <td>0.305491</td>\n",
              "      <td>30</td>\n",
              "    </tr>\n",
              "    <tr>\n",
              "      <th>31</th>\n",
              "      <td>0.309025</td>\n",
              "      <td>0.302751</td>\n",
              "      <td>31</td>\n",
              "    </tr>\n",
              "    <tr>\n",
              "      <th>32</th>\n",
              "      <td>0.308907</td>\n",
              "      <td>0.302073</td>\n",
              "      <td>32</td>\n",
              "    </tr>\n",
              "    <tr>\n",
              "      <th>33</th>\n",
              "      <td>0.308944</td>\n",
              "      <td>0.301935</td>\n",
              "      <td>33</td>\n",
              "    </tr>\n",
              "    <tr>\n",
              "      <th>34</th>\n",
              "      <td>0.308879</td>\n",
              "      <td>0.302427</td>\n",
              "      <td>34</td>\n",
              "    </tr>\n",
              "    <tr>\n",
              "      <th>35</th>\n",
              "      <td>0.308886</td>\n",
              "      <td>0.302148</td>\n",
              "      <td>35</td>\n",
              "    </tr>\n",
              "    <tr>\n",
              "      <th>36</th>\n",
              "      <td>0.308683</td>\n",
              "      <td>0.303238</td>\n",
              "      <td>36</td>\n",
              "    </tr>\n",
              "    <tr>\n",
              "      <th>37</th>\n",
              "      <td>0.308674</td>\n",
              "      <td>0.302468</td>\n",
              "      <td>37</td>\n",
              "    </tr>\n",
              "    <tr>\n",
              "      <th>38</th>\n",
              "      <td>0.308707</td>\n",
              "      <td>0.304811</td>\n",
              "      <td>38</td>\n",
              "    </tr>\n",
              "    <tr>\n",
              "      <th>39</th>\n",
              "      <td>0.308619</td>\n",
              "      <td>0.302574</td>\n",
              "      <td>39</td>\n",
              "    </tr>\n",
              "    <tr>\n",
              "      <th>40</th>\n",
              "      <td>0.308649</td>\n",
              "      <td>0.305174</td>\n",
              "      <td>40</td>\n",
              "    </tr>\n",
              "    <tr>\n",
              "      <th>41</th>\n",
              "      <td>0.308613</td>\n",
              "      <td>0.305351</td>\n",
              "      <td>41</td>\n",
              "    </tr>\n",
              "    <tr>\n",
              "      <th>42</th>\n",
              "      <td>0.308576</td>\n",
              "      <td>0.303515</td>\n",
              "      <td>42</td>\n",
              "    </tr>\n",
              "    <tr>\n",
              "      <th>43</th>\n",
              "      <td>0.308612</td>\n",
              "      <td>0.304852</td>\n",
              "      <td>43</td>\n",
              "    </tr>\n",
              "    <tr>\n",
              "      <th>44</th>\n",
              "      <td>0.308639</td>\n",
              "      <td>0.302066</td>\n",
              "      <td>44</td>\n",
              "    </tr>\n",
              "    <tr>\n",
              "      <th>45</th>\n",
              "      <td>0.308534</td>\n",
              "      <td>0.308904</td>\n",
              "      <td>45</td>\n",
              "    </tr>\n",
              "    <tr>\n",
              "      <th>46</th>\n",
              "      <td>0.308614</td>\n",
              "      <td>0.304221</td>\n",
              "      <td>46</td>\n",
              "    </tr>\n",
              "    <tr>\n",
              "      <th>47</th>\n",
              "      <td>0.308581</td>\n",
              "      <td>0.306887</td>\n",
              "      <td>47</td>\n",
              "    </tr>\n",
              "    <tr>\n",
              "      <th>48</th>\n",
              "      <td>0.308607</td>\n",
              "      <td>0.302008</td>\n",
              "      <td>48</td>\n",
              "    </tr>\n",
              "    <tr>\n",
              "      <th>49</th>\n",
              "      <td>0.308468</td>\n",
              "      <td>0.304053</td>\n",
              "      <td>49</td>\n",
              "    </tr>\n",
              "  </tbody>\n",
              "</table>\n",
              "</div>"
            ],
            "text/plain": [
              "        loss  val_loss  epoch\n",
              "0   0.356909  0.320117      0\n",
              "1   0.326700  0.320610      1\n",
              "2   0.326566  0.319040      2\n",
              "3   0.326371  0.320442      3\n",
              "4   0.326400  0.323567      4\n",
              "5   0.326280  0.323308      5\n",
              "6   0.326346  0.323049      6\n",
              "7   0.326235  0.319623      7\n",
              "8   0.320765  0.313316      8\n",
              "9   0.313435  0.308665      9\n",
              "10  0.312850  0.306705     10\n",
              "11  0.312736  0.307673     11\n",
              "12  0.312546  0.305694     12\n",
              "13  0.312249  0.305662     13\n",
              "14  0.310989  0.308167     14\n",
              "15  0.310368  0.314470     15\n",
              "16  0.309985  0.304094     16\n",
              "17  0.309755  0.308318     17\n",
              "18  0.309610  0.316354     18\n",
              "19  0.309596  0.303904     19\n",
              "20  0.309644  0.302728     20\n",
              "21  0.309615  0.305208     21\n",
              "22  0.309580  0.309666     22\n",
              "23  0.309503  0.303136     23\n",
              "24  0.309661  0.303022     24\n",
              "25  0.309428  0.303667     25\n",
              "26  0.309472  0.302976     26\n",
              "27  0.309472  0.302643     27\n",
              "28  0.309386  0.308715     28\n",
              "29  0.309509  0.302332     29\n",
              "30  0.309395  0.305491     30\n",
              "31  0.309025  0.302751     31\n",
              "32  0.308907  0.302073     32\n",
              "33  0.308944  0.301935     33\n",
              "34  0.308879  0.302427     34\n",
              "35  0.308886  0.302148     35\n",
              "36  0.308683  0.303238     36\n",
              "37  0.308674  0.302468     37\n",
              "38  0.308707  0.304811     38\n",
              "39  0.308619  0.302574     39\n",
              "40  0.308649  0.305174     40\n",
              "41  0.308613  0.305351     41\n",
              "42  0.308576  0.303515     42\n",
              "43  0.308612  0.304852     43\n",
              "44  0.308639  0.302066     44\n",
              "45  0.308534  0.308904     45\n",
              "46  0.308614  0.304221     46\n",
              "47  0.308581  0.306887     47\n",
              "48  0.308607  0.302008     48\n",
              "49  0.308468  0.304053     49"
            ]
          },
          "metadata": {
            "tags": []
          },
          "execution_count": 66
        }
      ]
    },
    {
      "cell_type": "code",
      "metadata": {
        "id": "H4BETmmT-VPy",
        "outputId": "6148f966-5f82-4c7c-90e7-f55f3a068ec8",
        "colab": {
          "base_uri": "https://localhost:8080/",
          "height": 278
        }
      },
      "source": [
        "plot_loss(history_deep) # epoch vs loss graph"
      ],
      "execution_count": null,
      "outputs": [
        {
          "output_type": "display_data",
          "data": {
            "image/png": "[encoded data removed]",
            "text/plain": [
              "<Figure size 432x288 with 1 Axes>"
            ]
          },
          "metadata": {
            "tags": [],
            "needs_background": "light"
          }
        }
      ]
    },
    {
      "cell_type": "code",
      "metadata": {
        "id": "R4AU1pQfW_sI",
        "outputId": "5708d5e4-abe1-47a7-d697-5ccdcf674d71",
        "colab": {
          "base_uri": "https://localhost:8080/",
          "height": 1000
        }
      },
      "source": [
        "history_dataframe = pd.DataFrame(history_deeper.history)\n",
        "history_dataframe['epoch'] = history_deeper.epoch\n",
        "history_dataframe"
      ],
      "execution_count": null,
      "outputs": [
        {
          "output_type": "execute_result",
          "data": {
            "text/html": [
              "<div>\n",
              "<style scoped>\n",
              "    .dataframe tbody tr th:only-of-type {\n",
              "        vertical-align: middle;\n",
              "    }\n",
              "\n",
              "    .dataframe tbody tr th {\n",
              "        vertical-align: top;\n",
              "    }\n",
              "\n",
              "    .dataframe thead th {\n",
              "        text-align: right;\n",
              "    }\n",
              "</style>\n",
              "<table border=\"1\" class=\"dataframe\">\n",
              "  <thead>\n",
              "    <tr style=\"text-align: right;\">\n",
              "      <th></th>\n",
              "      <th>loss</th>\n",
              "      <th>val_loss</th>\n",
              "      <th>epoch</th>\n",
              "    </tr>\n",
              "  </thead>\n",
              "  <tbody>\n",
              "    <tr>\n",
              "      <th>0</th>\n",
              "      <td>0.318330</td>\n",
              "      <td>0.300559</td>\n",
              "      <td>0</td>\n",
              "    </tr>\n",
              "    <tr>\n",
              "      <th>1</th>\n",
              "      <td>0.304160</td>\n",
              "      <td>0.300505</td>\n",
              "      <td>1</td>\n",
              "    </tr>\n",
              "    <tr>\n",
              "      <th>2</th>\n",
              "      <td>0.302679</td>\n",
              "      <td>0.295622</td>\n",
              "      <td>2</td>\n",
              "    </tr>\n",
              "    <tr>\n",
              "      <th>3</th>\n",
              "      <td>0.301258</td>\n",
              "      <td>0.296619</td>\n",
              "      <td>3</td>\n",
              "    </tr>\n",
              "    <tr>\n",
              "      <th>4</th>\n",
              "      <td>0.300096</td>\n",
              "      <td>0.294522</td>\n",
              "      <td>4</td>\n",
              "    </tr>\n",
              "    <tr>\n",
              "      <th>5</th>\n",
              "      <td>0.299819</td>\n",
              "      <td>0.301603</td>\n",
              "      <td>5</td>\n",
              "    </tr>\n",
              "    <tr>\n",
              "      <th>6</th>\n",
              "      <td>0.299388</td>\n",
              "      <td>0.296151</td>\n",
              "      <td>6</td>\n",
              "    </tr>\n",
              "    <tr>\n",
              "      <th>7</th>\n",
              "      <td>0.299316</td>\n",
              "      <td>0.293517</td>\n",
              "      <td>7</td>\n",
              "    </tr>\n",
              "    <tr>\n",
              "      <th>8</th>\n",
              "      <td>0.299186</td>\n",
              "      <td>0.294104</td>\n",
              "      <td>8</td>\n",
              "    </tr>\n",
              "    <tr>\n",
              "      <th>9</th>\n",
              "      <td>0.299145</td>\n",
              "      <td>0.295070</td>\n",
              "      <td>9</td>\n",
              "    </tr>\n",
              "    <tr>\n",
              "      <th>10</th>\n",
              "      <td>0.299035</td>\n",
              "      <td>0.293630</td>\n",
              "      <td>10</td>\n",
              "    </tr>\n",
              "    <tr>\n",
              "      <th>11</th>\n",
              "      <td>0.299048</td>\n",
              "      <td>0.297389</td>\n",
              "      <td>11</td>\n",
              "    </tr>\n",
              "    <tr>\n",
              "      <th>12</th>\n",
              "      <td>0.298989</td>\n",
              "      <td>0.296137</td>\n",
              "      <td>12</td>\n",
              "    </tr>\n",
              "    <tr>\n",
              "      <th>13</th>\n",
              "      <td>0.298957</td>\n",
              "      <td>0.294123</td>\n",
              "      <td>13</td>\n",
              "    </tr>\n",
              "    <tr>\n",
              "      <th>14</th>\n",
              "      <td>0.298835</td>\n",
              "      <td>0.294764</td>\n",
              "      <td>14</td>\n",
              "    </tr>\n",
              "    <tr>\n",
              "      <th>15</th>\n",
              "      <td>0.298859</td>\n",
              "      <td>0.294080</td>\n",
              "      <td>15</td>\n",
              "    </tr>\n",
              "    <tr>\n",
              "      <th>16</th>\n",
              "      <td>0.298790</td>\n",
              "      <td>0.293689</td>\n",
              "      <td>16</td>\n",
              "    </tr>\n",
              "    <tr>\n",
              "      <th>17</th>\n",
              "      <td>0.298694</td>\n",
              "      <td>0.293747</td>\n",
              "      <td>17</td>\n",
              "    </tr>\n",
              "    <tr>\n",
              "      <th>18</th>\n",
              "      <td>0.298684</td>\n",
              "      <td>0.299079</td>\n",
              "      <td>18</td>\n",
              "    </tr>\n",
              "    <tr>\n",
              "      <th>19</th>\n",
              "      <td>0.298655</td>\n",
              "      <td>0.295737</td>\n",
              "      <td>19</td>\n",
              "    </tr>\n",
              "    <tr>\n",
              "      <th>20</th>\n",
              "      <td>0.298672</td>\n",
              "      <td>0.293235</td>\n",
              "      <td>20</td>\n",
              "    </tr>\n",
              "    <tr>\n",
              "      <th>21</th>\n",
              "      <td>0.298686</td>\n",
              "      <td>0.293749</td>\n",
              "      <td>21</td>\n",
              "    </tr>\n",
              "    <tr>\n",
              "      <th>22</th>\n",
              "      <td>0.298682</td>\n",
              "      <td>0.294875</td>\n",
              "      <td>22</td>\n",
              "    </tr>\n",
              "    <tr>\n",
              "      <th>23</th>\n",
              "      <td>0.298579</td>\n",
              "      <td>0.293926</td>\n",
              "      <td>23</td>\n",
              "    </tr>\n",
              "    <tr>\n",
              "      <th>24</th>\n",
              "      <td>0.298518</td>\n",
              "      <td>0.294110</td>\n",
              "      <td>24</td>\n",
              "    </tr>\n",
              "    <tr>\n",
              "      <th>25</th>\n",
              "      <td>0.298555</td>\n",
              "      <td>0.294843</td>\n",
              "      <td>25</td>\n",
              "    </tr>\n",
              "    <tr>\n",
              "      <th>26</th>\n",
              "      <td>0.298581</td>\n",
              "      <td>0.294526</td>\n",
              "      <td>26</td>\n",
              "    </tr>\n",
              "    <tr>\n",
              "      <th>27</th>\n",
              "      <td>0.298567</td>\n",
              "      <td>0.293764</td>\n",
              "      <td>27</td>\n",
              "    </tr>\n",
              "    <tr>\n",
              "      <th>28</th>\n",
              "      <td>0.298584</td>\n",
              "      <td>0.293263</td>\n",
              "      <td>28</td>\n",
              "    </tr>\n",
              "    <tr>\n",
              "      <th>29</th>\n",
              "      <td>0.298457</td>\n",
              "      <td>0.293744</td>\n",
              "      <td>29</td>\n",
              "    </tr>\n",
              "    <tr>\n",
              "      <th>30</th>\n",
              "      <td>0.298454</td>\n",
              "      <td>0.294547</td>\n",
              "      <td>30</td>\n",
              "    </tr>\n",
              "    <tr>\n",
              "      <th>31</th>\n",
              "      <td>0.298441</td>\n",
              "      <td>0.293668</td>\n",
              "      <td>31</td>\n",
              "    </tr>\n",
              "    <tr>\n",
              "      <th>32</th>\n",
              "      <td>0.298541</td>\n",
              "      <td>0.293603</td>\n",
              "      <td>32</td>\n",
              "    </tr>\n",
              "    <tr>\n",
              "      <th>33</th>\n",
              "      <td>0.298473</td>\n",
              "      <td>0.293379</td>\n",
              "      <td>33</td>\n",
              "    </tr>\n",
              "    <tr>\n",
              "      <th>34</th>\n",
              "      <td>0.298378</td>\n",
              "      <td>0.293418</td>\n",
              "      <td>34</td>\n",
              "    </tr>\n",
              "    <tr>\n",
              "      <th>35</th>\n",
              "      <td>0.298477</td>\n",
              "      <td>0.294737</td>\n",
              "      <td>35</td>\n",
              "    </tr>\n",
              "    <tr>\n",
              "      <th>36</th>\n",
              "      <td>0.298370</td>\n",
              "      <td>0.296499</td>\n",
              "      <td>36</td>\n",
              "    </tr>\n",
              "    <tr>\n",
              "      <th>37</th>\n",
              "      <td>0.298485</td>\n",
              "      <td>0.293190</td>\n",
              "      <td>37</td>\n",
              "    </tr>\n",
              "    <tr>\n",
              "      <th>38</th>\n",
              "      <td>0.298399</td>\n",
              "      <td>0.292704</td>\n",
              "      <td>38</td>\n",
              "    </tr>\n",
              "    <tr>\n",
              "      <th>39</th>\n",
              "      <td>0.298400</td>\n",
              "      <td>0.296132</td>\n",
              "      <td>39</td>\n",
              "    </tr>\n",
              "    <tr>\n",
              "      <th>40</th>\n",
              "      <td>0.298421</td>\n",
              "      <td>0.292902</td>\n",
              "      <td>40</td>\n",
              "    </tr>\n",
              "    <tr>\n",
              "      <th>41</th>\n",
              "      <td>0.298324</td>\n",
              "      <td>0.294017</td>\n",
              "      <td>41</td>\n",
              "    </tr>\n",
              "    <tr>\n",
              "      <th>42</th>\n",
              "      <td>0.298334</td>\n",
              "      <td>0.293159</td>\n",
              "      <td>42</td>\n",
              "    </tr>\n",
              "    <tr>\n",
              "      <th>43</th>\n",
              "      <td>0.298383</td>\n",
              "      <td>0.294842</td>\n",
              "      <td>43</td>\n",
              "    </tr>\n",
              "    <tr>\n",
              "      <th>44</th>\n",
              "      <td>0.298297</td>\n",
              "      <td>0.293559</td>\n",
              "      <td>44</td>\n",
              "    </tr>\n",
              "    <tr>\n",
              "      <th>45</th>\n",
              "      <td>0.298270</td>\n",
              "      <td>0.294747</td>\n",
              "      <td>45</td>\n",
              "    </tr>\n",
              "    <tr>\n",
              "      <th>46</th>\n",
              "      <td>0.298238</td>\n",
              "      <td>0.293292</td>\n",
              "      <td>46</td>\n",
              "    </tr>\n",
              "    <tr>\n",
              "      <th>47</th>\n",
              "      <td>0.298219</td>\n",
              "      <td>0.293306</td>\n",
              "      <td>47</td>\n",
              "    </tr>\n",
              "    <tr>\n",
              "      <th>48</th>\n",
              "      <td>0.298252</td>\n",
              "      <td>0.298687</td>\n",
              "      <td>48</td>\n",
              "    </tr>\n",
              "    <tr>\n",
              "      <th>49</th>\n",
              "      <td>0.298315</td>\n",
              "      <td>0.293642</td>\n",
              "      <td>49</td>\n",
              "    </tr>\n",
              "  </tbody>\n",
              "</table>\n",
              "</div>"
            ],
            "text/plain": [
              "        loss  val_loss  epoch\n",
              "0   0.318330  0.300559      0\n",
              "1   0.304160  0.300505      1\n",
              "2   0.302679  0.295622      2\n",
              "3   0.301258  0.296619      3\n",
              "4   0.300096  0.294522      4\n",
              "5   0.299819  0.301603      5\n",
              "6   0.299388  0.296151      6\n",
              "7   0.299316  0.293517      7\n",
              "8   0.299186  0.294104      8\n",
              "9   0.299145  0.295070      9\n",
              "10  0.299035  0.293630     10\n",
              "11  0.299048  0.297389     11\n",
              "12  0.298989  0.296137     12\n",
              "13  0.298957  0.294123     13\n",
              "14  0.298835  0.294764     14\n",
              "15  0.298859  0.294080     15\n",
              "16  0.298790  0.293689     16\n",
              "17  0.298694  0.293747     17\n",
              "18  0.298684  0.299079     18\n",
              "19  0.298655  0.295737     19\n",
              "20  0.298672  0.293235     20\n",
              "21  0.298686  0.293749     21\n",
              "22  0.298682  0.294875     22\n",
              "23  0.298579  0.293926     23\n",
              "24  0.298518  0.294110     24\n",
              "25  0.298555  0.294843     25\n",
              "26  0.298581  0.294526     26\n",
              "27  0.298567  0.293764     27\n",
              "28  0.298584  0.293263     28\n",
              "29  0.298457  0.293744     29\n",
              "30  0.298454  0.294547     30\n",
              "31  0.298441  0.293668     31\n",
              "32  0.298541  0.293603     32\n",
              "33  0.298473  0.293379     33\n",
              "34  0.298378  0.293418     34\n",
              "35  0.298477  0.294737     35\n",
              "36  0.298370  0.296499     36\n",
              "37  0.298485  0.293190     37\n",
              "38  0.298399  0.292704     38\n",
              "39  0.298400  0.296132     39\n",
              "40  0.298421  0.292902     40\n",
              "41  0.298324  0.294017     41\n",
              "42  0.298334  0.293159     42\n",
              "43  0.298383  0.294842     43\n",
              "44  0.298297  0.293559     44\n",
              "45  0.298270  0.294747     45\n",
              "46  0.298238  0.293292     46\n",
              "47  0.298219  0.293306     47\n",
              "48  0.298252  0.298687     48\n",
              "49  0.298315  0.293642     49"
            ]
          },
          "metadata": {
            "tags": []
          },
          "execution_count": 68
        }
      ]
    },
    {
      "cell_type": "code",
      "metadata": {
        "id": "tElE_5w7LtiW",
        "outputId": "a5ff0a3f-a8cc-4480-b320-fcdc482225a8",
        "colab": {
          "base_uri": "https://localhost:8080/",
          "height": 278
        }
      },
      "source": [
        "plot_loss(history_deeper)"
      ],
      "execution_count": null,
      "outputs": [
        {
          "output_type": "display_data",
          "data": {
            "image/png": "[encoded data removed]",
            "text/plain": [
              "<Figure size 432x288 with 1 Axes>"
            ]
          },
          "metadata": {
            "tags": [],
            "needs_background": "light"
          }
        }
      ]
    },
    {
      "cell_type": "markdown",
      "metadata": {
        "id": "ahpg9zw2ZKNY"
      },
      "source": [
        "Untuk Bottle database saya masih menggunakan komposisi data training dan testing 80:20. Untuk batch_size saya ganti menjadi 64. Sebelumnya sudah saya running dengan batch_size 8, namun pada saat epochs 54, Runtime TPU nya limit, sehingga saya ulang dan mengganti batch_size nya agar lebih cepat."
      ]
    },
    {
      "cell_type": "markdown",
      "metadata": {
        "id": "S0Z_v2urWSYw"
      },
      "source": [
        "LINEAR REGRESSION"
      ]
    },
    {
      "cell_type": "markdown",
      "metadata": {
        "id": "FOTXjrmpWcuQ"
      },
      "source": [
        "r^2 score : 0.35537847778712184\n",
        "\n",
        "\n",
        "RMSE : 0.8017754408606275"
      ]
    },
    {
      "cell_type": "markdown",
      "metadata": {
        "id": "x3HOmokKWkyW"
      },
      "source": [
        "DEEP LEARNING"
      ]
    },
    {
      "cell_type": "markdown",
      "metadata": {
        "id": "IXVPE1TDWq1f"
      },
      "source": [
        "r^2 score : 0.6951060378434666\n",
        "\n",
        "\n",
        "RMSE : 0.5514101558011304"
      ]
    },
    {
      "cell_type": "markdown",
      "metadata": {
        "id": "KiG7OgcAW1we"
      },
      "source": [
        "DEEPER MODEL"
      ]
    },
    {
      "cell_type": "markdown",
      "metadata": {
        "id": "vGwlciNuW7N5"
      },
      "source": [
        "r^2 score : 0.705546412885255\n",
        "\n",
        "\n",
        "RMSE : 0.5418870511181075"
      ]
    },
    {
      "cell_type": "markdown",
      "metadata": {
        "id": "G8rVD2-VW_eF"
      },
      "source": [
        "WIDER MODEL"
      ]
    },
    {
      "cell_type": "markdown",
      "metadata": {
        "id": "9S9XiqDYXFKp"
      },
      "source": [
        "r^2 score : 0.7054324380920074\n",
        "\n",
        "\n",
        "RMSE : 0.5419919156739107"
      ]
    },
    {
      "cell_type": "markdown",
      "metadata": {
        "id": "FPfhi_zfXR21"
      },
      "source": [
        "Kesimpulan : nilai akurasi yang paling tinggi didapatkan pada Deeper model (70.55%) dan Wider model (70.54%) dan nilai rmse nya juga hampir sama 0.54"
      ]
    }
  ]
}